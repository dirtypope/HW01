{
 "cells": [
  {
   "cell_type": "markdown",
   "metadata": {},
   "source": [
    "# День 6. Построение и отбор признаков"
   ]
  },
  {
   "cell_type": "markdown",
   "metadata": {},
   "source": [
    "\"yes you're really need to know backpropogarion\" статья"
   ]
  },
  {
   "cell_type": "markdown",
   "metadata": {},
   "source": [
    "Теорема Гаусса-Маркова:\n",
    "Предположения:\n",
    "1. зависимость линейна: y=xw\n",
    "2. Незваисимость: появление нового объекта никак не связаны с предыдущими объектами\n",
    "3. Ошибки случайны и мат. ожидание ошибок == 0\n",
    "4. гомоскедастичность: дисперсия ошибок не зависит от ч\n",
    "5. полнота ранга матрицы х - нет линейной зависимости столбцов\n",
    "---\n",
    "6. Если ошибки нормально распределены, будет получена оценка максимального правдоподобия"
   ]
  },
  {
   "cell_type": "markdown",
   "metadata": {},
   "source": [
    "yi = w(t)xi + ei, w и ei = случайные величины\n",
    "p()"
   ]
  },
  {
   "cell_type": "markdown",
   "metadata": {},
   "source": [
    "Метод максимального правдоподобия:\n",
    "L = P{y|x,w} -> max [вероятность вектора y при условии фиксированных значениях x, w)\n",
    "yi|xi ~ N(wtxi|sigm**2)"
   ]
  },
  {
   "cell_type": "markdown",
   "metadata": {},
   "source": [
    "L = P{y|x,w} = Произведение (от i о l) p(yi|xi,w)\n",
    "Проще считать суммы, поэтому проведем монотонное преобразование ln(L) -> max\n",
    "из задачи максимизации правдоподбия получается задача минимизации квадратичной ошибки (рассписать с помощью формул)"
   ]
  },
  {
   "cell_type": "markdown",
   "metadata": {},
   "source": [
    "Регуляризация"
   ]
  },
  {
   "cell_type": "markdown",
   "metadata": {},
   "source": [
    "mse = i/l*sum{i=(1:n)}{(yi-wtxi)**2} -> min"
   ]
  },
  {
   "cell_type": "markdown",
   "metadata": {},
   "source": [
    "y = Xw     #*Xt\n",
    "Xty = XtXw #*(XtX)*-1\n",
    "((XtX)**-1)Xty = w"
   ]
  },
  {
   "cell_type": "markdown",
   "metadata": {},
   "source": [
    "Регуляризация заключается в том, что веса w ограничиваются некоторой константой\n",
    "Это нужно для:\n",
    " - интерпретируемости результатов\n",
    " - для борьбы с переобучением\n",
    " - для уменьшения"
   ]
  },
  {
   "cell_type": "markdown",
   "metadata": {},
   "source": [
    "MSE + lambda(Summ{i(1,d)}wi**2 -> min\n",
    "при lambda>>1 минимизируются веса (ограничиваются) ||W||\n",
    "при lambda<<1 минимизируется MSE"
   ]
  },
  {
   "cell_type": "markdown",
   "metadata": {},
   "source": [
    "Условная оптимизация:\n",
    "MSE -> min\n",
    "and                 =  MSE + lambda(Summ{i(1,d)}wi**2 -> min\n",
    "||w|| <=C"
   ]
  },
  {
   "cell_type": "markdown",
   "metadata": {},
   "source": [
    "Первый вариант регуляризации (Ridge - гребневая)\n",
    "Obj(ective) = MSE + lambda(Summ({i(1,d)}{wi**2}) -> min = loss + R\n",
    "Второй вариант (LASSO): MSE + lambda(Summ({i(1,d)}{|wi|})\n",
    "L1-регуляризация: Summ({i(1,d)}{wi**2} = ||w||1\n",
    "L2-регуляризация: Summ({i(1,d)}{|wi|} = ||w||2\n",
    "LASSo регрессия сводится к тому, что часть параметров (w) обнулятся. Поэтому используется для первичного выбора признаков\n",
    "Ridge - лучше борется с линейной зависимостью признаков"
   ]
  },
  {
   "cell_type": "code",
   "execution_count": null,
   "metadata": {
    "collapsed": true
   },
   "outputs": [],
   "source": []
  },
  {
   "cell_type": "code",
   "execution_count": null,
   "metadata": {
    "collapsed": true
   },
   "outputs": [],
   "source": []
  },
  {
   "cell_type": "code",
   "execution_count": null,
   "metadata": {
    "collapsed": true
   },
   "outputs": [],
   "source": []
  },
  {
   "cell_type": "code",
   "execution_count": null,
   "metadata": {
    "collapsed": true
   },
   "outputs": [],
   "source": []
  },
  {
   "cell_type": "code",
   "execution_count": null,
   "metadata": {
    "collapsed": true
   },
   "outputs": [],
   "source": []
  },
  {
   "cell_type": "code",
   "execution_count": null,
   "metadata": {
    "collapsed": true
   },
   "outputs": [],
   "source": []
  },
  {
   "cell_type": "code",
   "execution_count": null,
   "metadata": {
    "collapsed": true
   },
   "outputs": [],
   "source": []
  },
  {
   "cell_type": "code",
   "execution_count": null,
   "metadata": {
    "collapsed": true
   },
   "outputs": [],
   "source": []
  },
  {
   "cell_type": "code",
   "execution_count": null,
   "metadata": {
    "collapsed": true
   },
   "outputs": [],
   "source": []
  },
  {
   "cell_type": "code",
   "execution_count": null,
   "metadata": {
    "collapsed": true
   },
   "outputs": [],
   "source": [
    "import pandas as pd\n",
    "import numpy as np\n",
    "from sklearn.datasets import load_files"
   ]
  },
  {
   "cell_type": "code",
   "execution_count": null,
   "metadata": {
    "collapsed": true
   },
   "outputs": [],
   "source": [
    "df = pd.read_csv('../../mlcorse_open/data/')"
   ]
  }
 ],
 "metadata": {
  "kernelspec": {
   "display_name": "Python 3",
   "language": "python",
   "name": "python3"
  },
  "language_info": {
   "codemirror_mode": {
    "name": "ipython",
    "version": 3
   },
   "file_extension": ".py",
   "mimetype": "text/x-python",
   "name": "python",
   "nbconvert_exporter": "python",
   "pygments_lexer": "ipython3",
   "version": "3.6.1"
  }
 },
 "nbformat": 4,
 "nbformat_minor": 2
}
