{
 "cells": [
  {
   "cell_type": "markdown",
   "metadata": {},
   "source": [
    "# День 4. Логистическая регрессия"
   ]
  },
  {
   "cell_type": "markdown",
   "metadata": {},
   "source": [
    "mse (mean sqared error) = 1/n(sum(w0+w1*xi - yi)^2 -> min"
   ]
  },
  {
   "cell_type": "markdown",
   "metadata": {},
   "source": [
    "Градиентный спуск (GD)"
   ]
  },
  {
   "cell_type": "markdown",
   "metadata": {},
   "source": [
    "MSE(w0,w1) - min по w0,w1\n",
    "Берем точку, считаем для неё производную. \n",
    "На следуюещем шаге смещаемся от исходной точки на x1 = x0 - y'*n\n",
    "Сложности - правильный подбор шага n\n",
    "2 виду спуска:\n",
    " - batch (на каждом шаге для вычисления вектора параметров используется весь набор данных(;\n",
    " - stohastic (на каждом шаге считается только текущий объект)"
   ]
  },
  {
   "cell_type": "markdown",
   "metadata": {},
   "source": [
    "МНК на выходе даёт вещественное число. В случае классификации необходимо получить из него бинарный (например) вектор. \n",
    "Попробуем расчитать вероятность отнесения к классу.\n",
    "1 способ: посчитать вероятности"
   ]
  },
  {
   "cell_type": "markdown",
   "metadata": {},
   "source": []
  },
  {
   "cell_type": "code",
   "execution_count": null,
   "metadata": {
    "collapsed": true
   },
   "outputs": [],
   "source": [
    "df = pd.read_csv('../../mlcourse_open/data/kaggle_CatchMe_train.csv')"
   ]
  }
 ],
 "metadata": {
  "kernelspec": {
   "display_name": "Python 3",
   "language": "python",
   "name": "python3"
  },
  "language_info": {
   "codemirror_mode": {
    "name": "ipython",
    "version": 3
   },
   "file_extension": ".py",
   "mimetype": "text/x-python",
   "name": "python",
   "nbconvert_exporter": "python",
   "pygments_lexer": "ipython3",
   "version": "3.6.1"
  }
 },
 "nbformat": 4,
 "nbformat_minor": 2
}
