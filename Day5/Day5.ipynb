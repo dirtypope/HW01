{
 "cells": [
  {
   "cell_type": "markdown",
   "metadata": {},
   "source": [
    "# День 5. Композиции: бэггинг, случайный лес"
   ]
  },
  {
   "cell_type": "markdown",
   "metadata": {},
   "source": [
    "## 1. Основные метрики оценки качества классификации"
   ]
  },
  {
   "cell_type": "markdown",
   "metadata": {},
   "source": [
    "### 1.1. Матрица ошибок"
   ]
  },
  {
   "cell_type": "markdown",
   "metadata": {},
   "source": [
    "<table>\n",
    "<tr><td></td><td><b>Actual</b></td></tr>\n",
    "<tr><td><b>Predicted</b></td><td>\n",
    "<table>\n",
    "<tr><td></td><td><b><i>Positive</i></b></td><td><b><i>Negative</i></b></td>\n",
    "<tr><td><b><i>Positive</i></b></td><td>True positive (TP)</td><td>False positive (FP)</td></tr>\n",
    "<tr><td><b><i>Negative</i></b></td><td>False negative (FN)</td><td>True negative (TN)</td></tr>\n",
    "</table>\n",
    "</td>\n",
    "</tr>\n",
    "</table>"
   ]
  },
  {
   "cell_type": "markdown",
   "metadata": {},
   "source": [
    "### 1.2. Метрики"
   ]
  },
  {
   "cell_type": "markdown",
   "metadata": {},
   "source": [
    "$$ACC = \\frac{TP+TN}{TP+FP+FN+TN}, \\quad \n",
    "PPV = \\frac{TP}{TP+FP}, \\quad \n",
    "TPR = \\frac{TP}{TP+FN}, \\quad \n",
    "F1 = 2 \\cdot \\frac{PPV \\cdot TPR}{PPV + TPR}$$\n",
    "ACC - Accuracy<br>\n",
    "PPV = Positive predicted value, precision, точность<br>\n",
    "TPR - True positive rate, recall, полнота"
   ]
  },
  {
   "cell_type": "markdown",
   "metadata": {},
   "source": [
    "Недостатки ACC: \n",
    " - учитывает разные типы ошибок в одинаковым весом;\n",
    " - не показательна в сильно разбалансированных данных (например, в выборке 99% ответов относятся к одному классу)."
   ]
  },
  {
   "cell_type": "markdown",
   "metadata": {},
   "source": [
    "Для оценки вероятностей (а не только дискретных классификаций) используется метрика Roc AUC"
   ]
  },
  {
   "cell_type": "markdown",
   "metadata": {},
   "source": [
    "<b> Почитать</b> про gini и lift"
   ]
  },
  {
   "cell_type": "markdown",
   "metadata": {},
   "source": [
    "Поиск гиперпараметров с помощью gridsearch: сначала на широкой выборке, затем можно сузить.\n",
    "На сложных моделях для поиска параметров можно использовать random search/\n",
    "Визуально для этого используются кривые валидации"
   ]
  },
  {
   "cell_type": "markdown",
   "metadata": {},
   "source": [
    "Нужны ли дополнительные данные: строить модели на 10% данных, затем на 20 и так далее. Строить кривые валидации и изучать поведение кривых.<br>\n",
    "Не стоит забывать повышать сложность модели при увеличении данных. Иногда изменение сложности модели может дать больше пользы, чем новые данные"
   ]
  },
  {
   "cell_type": "markdown",
   "metadata": {},
   "source": [
    "<b>Попробовать</b> построить криыве валидации при добавлении новых данных"
   ]
  },
  {
   "cell_type": "markdown",
   "metadata": {},
   "source": [
    "## 2. Композиции"
   ]
  },
  {
   "cell_type": "markdown",
   "metadata": {},
   "source": [
    "### 2.1. Бутстрэп "
   ]
  },
  {
   "cell_type": "markdown",
   "metadata": {},
   "source": [
    "Принцип композиции базируется на правиле \"мудрости толпы\". Эффект достигается, если все голоса будут независимы"
   ]
  },
  {
   "cell_type": "markdown",
   "metadata": {},
   "source": [
    "бутстрэп - выборка с замещением"
   ]
  },
  {
   "cell_type": "markdown",
   "metadata": {},
   "source": [
    "бэггинг"
   ]
  },
  {
   "cell_type": "markdown",
   "metadata": {},
   "source": [
    "Метод случайных подпространств - разные модели строятся на разном подмножетсве признаков"
   ]
  },
  {
   "cell_type": "markdown",
   "metadata": {},
   "source": [
    "### 2.2. Случайный лес "
   ]
  },
  {
   "cell_type": "markdown",
   "metadata": {},
   "source": [
    "Случайный лес - бутстрэп + МСП. Количество признаков - гиперпараметр\n",
    "<br>Плюсы:\n",
    " - малые требования к предобработке\n",
    " - низкая требовательность в настройке гиперпараметров\n",
    " - хорошо работает и в задачах регрессии"
   ]
  },
  {
   "cell_type": "markdown",
   "metadata": {},
   "source": [
    "<br>Минусы:\n",
    " - Обучение большого леса требует больших ресурсов\n",
    " - Плохо работает на большом количестве разреженных признаков"
   ]
  },
  {
   "cell_type": "markdown",
   "metadata": {},
   "source": [
    "Основные гиперпараметры:\n",
    " - Глубина: как правило, не огриничивают. Для более точной оценки деревью должны быть максимальной глубины\n",
    " - Минимальное количество листьев: по умолчанию - 1. Аналогично глубине.\n",
    " - Количество деревьев - больше - лучше. Добавление деревьев не ведёт к переобучению\n",
    " - Количество признаков (sqrt(n), где n - общее число признаков)"
   ]
  }
 ],
 "metadata": {
  "kernelspec": {
   "display_name": "Python 3",
   "language": "python",
   "name": "python3"
  },
  "language_info": {
   "codemirror_mode": {
    "name": "ipython",
    "version": 3
   },
   "file_extension": ".py",
   "mimetype": "text/x-python",
   "name": "python",
   "nbconvert_exporter": "python",
   "pygments_lexer": "ipython3",
   "version": "3.6.1"
  }
 },
 "nbformat": 4,
 "nbformat_minor": 2
}
