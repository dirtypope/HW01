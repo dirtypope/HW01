{
 "cells": [
  {
   "cell_type": "markdown",
   "metadata": {},
   "source": [
    "# День 2. Визуализация"
   ]
  },
  {
   "cell_type": "code",
   "execution_count": 8,
   "metadata": {},
   "outputs": [],
   "source": [
    "import pandas as pd\n",
    "import numpy as np\n",
    "import seaborn as sns\n",
    "from matplotlib import pyplot as plt"
   ]
  },
  {
   "cell_type": "code",
   "execution_count": 9,
   "metadata": {
    "collapsed": true
   },
   "outputs": [],
   "source": [
    "%matplotlib inline \n",
    "    #для построения картинок в тетрадке"
   ]
  },
  {
   "cell_type": "markdown",
   "metadata": {},
   "source": [
    "Признаки бывают: количественные, категориальные (>2 признаков), бинарнеы (2 признака)\n",
    "Как исследовать по одному: отдельно колич, отдельно катег\n",
    "взаимодейтсиве: колич-колич, колич-категор, кат-кат"
   ]
  },
  {
   "cell_type": "code",
   "execution_count": 10,
   "metadata": {},
   "outputs": [],
   "source": [
    "df = pd.read_csv('../../mlcourse_open/data/telecom_churn.csv')"
   ]
  },
  {
   "cell_type": "code",
   "execution_count": 11,
   "metadata": {},
   "outputs": [
    {
     "data": {
      "text/html": [
       "<div>\n",
       "<style>\n",
       "    .dataframe thead tr:only-child th {\n",
       "        text-align: right;\n",
       "    }\n",
       "\n",
       "    .dataframe thead th {\n",
       "        text-align: left;\n",
       "    }\n",
       "\n",
       "    .dataframe tbody tr th {\n",
       "        vertical-align: top;\n",
       "    }\n",
       "</style>\n",
       "<table border=\"1\" class=\"dataframe\">\n",
       "  <thead>\n",
       "    <tr style=\"text-align: right;\">\n",
       "      <th></th>\n",
       "      <th>State</th>\n",
       "      <th>Account length</th>\n",
       "      <th>Area code</th>\n",
       "      <th>International plan</th>\n",
       "      <th>Voice mail plan</th>\n",
       "      <th>Number vmail messages</th>\n",
       "      <th>Total day minutes</th>\n",
       "      <th>Total day calls</th>\n",
       "      <th>Total day charge</th>\n",
       "      <th>Total eve minutes</th>\n",
       "      <th>Total eve calls</th>\n",
       "      <th>Total eve charge</th>\n",
       "      <th>Total night minutes</th>\n",
       "      <th>Total night calls</th>\n",
       "      <th>Total night charge</th>\n",
       "      <th>Total intl minutes</th>\n",
       "      <th>Total intl calls</th>\n",
       "      <th>Total intl charge</th>\n",
       "      <th>Customer service calls</th>\n",
       "      <th>Churn</th>\n",
       "    </tr>\n",
       "  </thead>\n",
       "  <tbody>\n",
       "    <tr>\n",
       "      <th>0</th>\n",
       "      <td>KS</td>\n",
       "      <td>128</td>\n",
       "      <td>415</td>\n",
       "      <td>No</td>\n",
       "      <td>Yes</td>\n",
       "      <td>25</td>\n",
       "      <td>265.1</td>\n",
       "      <td>110</td>\n",
       "      <td>45.07</td>\n",
       "      <td>197.4</td>\n",
       "      <td>99</td>\n",
       "      <td>16.78</td>\n",
       "      <td>244.7</td>\n",
       "      <td>91</td>\n",
       "      <td>11.01</td>\n",
       "      <td>10.0</td>\n",
       "      <td>3</td>\n",
       "      <td>2.70</td>\n",
       "      <td>1</td>\n",
       "      <td>False</td>\n",
       "    </tr>\n",
       "    <tr>\n",
       "      <th>1</th>\n",
       "      <td>OH</td>\n",
       "      <td>107</td>\n",
       "      <td>415</td>\n",
       "      <td>No</td>\n",
       "      <td>Yes</td>\n",
       "      <td>26</td>\n",
       "      <td>161.6</td>\n",
       "      <td>123</td>\n",
       "      <td>27.47</td>\n",
       "      <td>195.5</td>\n",
       "      <td>103</td>\n",
       "      <td>16.62</td>\n",
       "      <td>254.4</td>\n",
       "      <td>103</td>\n",
       "      <td>11.45</td>\n",
       "      <td>13.7</td>\n",
       "      <td>3</td>\n",
       "      <td>3.70</td>\n",
       "      <td>1</td>\n",
       "      <td>False</td>\n",
       "    </tr>\n",
       "    <tr>\n",
       "      <th>2</th>\n",
       "      <td>NJ</td>\n",
       "      <td>137</td>\n",
       "      <td>415</td>\n",
       "      <td>No</td>\n",
       "      <td>No</td>\n",
       "      <td>0</td>\n",
       "      <td>243.4</td>\n",
       "      <td>114</td>\n",
       "      <td>41.38</td>\n",
       "      <td>121.2</td>\n",
       "      <td>110</td>\n",
       "      <td>10.30</td>\n",
       "      <td>162.6</td>\n",
       "      <td>104</td>\n",
       "      <td>7.32</td>\n",
       "      <td>12.2</td>\n",
       "      <td>5</td>\n",
       "      <td>3.29</td>\n",
       "      <td>0</td>\n",
       "      <td>False</td>\n",
       "    </tr>\n",
       "    <tr>\n",
       "      <th>3</th>\n",
       "      <td>OH</td>\n",
       "      <td>84</td>\n",
       "      <td>408</td>\n",
       "      <td>Yes</td>\n",
       "      <td>No</td>\n",
       "      <td>0</td>\n",
       "      <td>299.4</td>\n",
       "      <td>71</td>\n",
       "      <td>50.90</td>\n",
       "      <td>61.9</td>\n",
       "      <td>88</td>\n",
       "      <td>5.26</td>\n",
       "      <td>196.9</td>\n",
       "      <td>89</td>\n",
       "      <td>8.86</td>\n",
       "      <td>6.6</td>\n",
       "      <td>7</td>\n",
       "      <td>1.78</td>\n",
       "      <td>2</td>\n",
       "      <td>False</td>\n",
       "    </tr>\n",
       "    <tr>\n",
       "      <th>4</th>\n",
       "      <td>OK</td>\n",
       "      <td>75</td>\n",
       "      <td>415</td>\n",
       "      <td>Yes</td>\n",
       "      <td>No</td>\n",
       "      <td>0</td>\n",
       "      <td>166.7</td>\n",
       "      <td>113</td>\n",
       "      <td>28.34</td>\n",
       "      <td>148.3</td>\n",
       "      <td>122</td>\n",
       "      <td>12.61</td>\n",
       "      <td>186.9</td>\n",
       "      <td>121</td>\n",
       "      <td>8.41</td>\n",
       "      <td>10.1</td>\n",
       "      <td>3</td>\n",
       "      <td>2.73</td>\n",
       "      <td>3</td>\n",
       "      <td>False</td>\n",
       "    </tr>\n",
       "  </tbody>\n",
       "</table>\n",
       "</div>"
      ],
      "text/plain": [
       "  State  Account length  Area code International plan Voice mail plan  \\\n",
       "0    KS             128        415                 No             Yes   \n",
       "1    OH             107        415                 No             Yes   \n",
       "2    NJ             137        415                 No              No   \n",
       "3    OH              84        408                Yes              No   \n",
       "4    OK              75        415                Yes              No   \n",
       "\n",
       "   Number vmail messages  Total day minutes  Total day calls  \\\n",
       "0                     25              265.1              110   \n",
       "1                     26              161.6              123   \n",
       "2                      0              243.4              114   \n",
       "3                      0              299.4               71   \n",
       "4                      0              166.7              113   \n",
       "\n",
       "   Total day charge  Total eve minutes  Total eve calls  Total eve charge  \\\n",
       "0             45.07              197.4               99             16.78   \n",
       "1             27.47              195.5              103             16.62   \n",
       "2             41.38              121.2              110             10.30   \n",
       "3             50.90               61.9               88              5.26   \n",
       "4             28.34              148.3              122             12.61   \n",
       "\n",
       "   Total night minutes  Total night calls  Total night charge  \\\n",
       "0                244.7                 91               11.01   \n",
       "1                254.4                103               11.45   \n",
       "2                162.6                104                7.32   \n",
       "3                196.9                 89                8.86   \n",
       "4                186.9                121                8.41   \n",
       "\n",
       "   Total intl minutes  Total intl calls  Total intl charge  \\\n",
       "0                10.0                 3               2.70   \n",
       "1                13.7                 3               3.70   \n",
       "2                12.2                 5               3.29   \n",
       "3                 6.6                 7               1.78   \n",
       "4                10.1                 3               2.73   \n",
       "\n",
       "   Customer service calls  Churn  \n",
       "0                       1  False  \n",
       "1                       1  False  \n",
       "2                       0  False  \n",
       "3                       2  False  \n",
       "4                       3  False  "
      ]
     },
     "execution_count": 11,
     "metadata": {},
     "output_type": "execute_result"
    }
   ],
   "source": [
    "df.head()"
   ]
  },
  {
   "cell_type": "markdown",
   "metadata": {},
   "source": [
    "## 1. Признаки по одному"
   ]
  },
  {
   "cell_type": "markdown",
   "metadata": {},
   "source": [
    "### 1.1 Количественные"
   ]
  },
  {
   "cell_type": "code",
   "execution_count": 8,
   "metadata": {},
   "outputs": [
    {
     "data": {
      "image/png": "[encoded data removed]",
      "text/plain": [
       "<matplotlib.figure.Figure at 0x1d411174278>"
      ]
     },
     "metadata": {},
     "output_type": "display_data"
    }
   ],
   "source": [
    "df['Total day minutes'].hist();"
   ]
  },
  {
   "cell_type": "code",
   "execution_count": 13,
   "metadata": {},
   "outputs": [
    {
     "data": {
      "image/png": "[encoded data removed]",
      "text/plain": [
       "<matplotlib.figure.Figure at 0x1d4124cdeb8>"
      ]
     },
     "metadata": {},
     "output_type": "display_data"
    }
   ],
   "source": [
    "df.hist();"
   ]
  },
  {
   "cell_type": "code",
   "execution_count": 12,
   "metadata": {},
   "outputs": [
    {
     "data": {
      "image/png": "[encoded data removed]",
      "text/plain": [
       "<matplotlib.figure.Figure at 0x1d41242eac8>"
      ]
     },
     "metadata": {},
     "output_type": "display_data"
    }
   ],
   "source": [
    "sns.boxplot(df['Total day minutes']);"
   ]
  },
  {
   "cell_type": "markdown",
   "metadata": {},
   "source": [
    "### 1.2 Категориальные признаки"
   ]
  },
  {
   "cell_type": "code",
   "execution_count": 15,
   "metadata": {},
   "outputs": [
    {
     "data": {
      "text/plain": [
       "False    2850\n",
       "True      483\n",
       "Name: Churn, dtype: int64"
      ]
     },
     "execution_count": 15,
     "metadata": {},
     "output_type": "execute_result"
    }
   ],
   "source": [
    "df[\"Churn\"].value_counts().head()"
   ]
  },
  {
   "cell_type": "code",
   "execution_count": 17,
   "metadata": {},
   "outputs": [
    {
     "data": {
      "image/png": "[encoded data removed]",
      "text/plain": [
       "<matplotlib.figure.Figure at 0x1d4122b5eb8>"
      ]
     },
     "metadata": {},
     "output_type": "display_data"
    }
   ],
   "source": [
    "sns.countplot(df['Churn']);"
   ]
  },
  {
   "cell_type": "code",
   "execution_count": 18,
   "metadata": {},
   "outputs": [
    {
     "data": {
      "image/png": "[encoded data removed]",
      "text/plain": [
       "<matplotlib.figure.Figure at 0x1d412983be0>"
      ]
     },
     "metadata": {},
     "output_type": "display_data"
    }
   ],
   "source": [
    "sns.countplot(df['State']);"
   ]
  },
  {
   "cell_type": "code",
   "execution_count": 14,
   "metadata": {},
   "outputs": [
    {
     "data": {
      "text/plain": [
       "WV    106\n",
       "MN     84\n",
       "NY     83\n",
       "AL     80\n",
       "OR     78\n",
       "Name: State, dtype: int64"
      ]
     },
     "execution_count": 14,
     "metadata": {},
     "output_type": "execute_result"
    }
   ],
   "source": [
    "df[\"State\"].value_counts().head()"
   ]
  },
  {
   "cell_type": "code",
   "execution_count": 19,
   "metadata": {},
   "outputs": [
    {
     "data": {
      "text/plain": [
       "Index(['WV', 'MN', 'NY', 'AL', 'OR'], dtype='object')"
      ]
     },
     "execution_count": 19,
     "metadata": {},
     "output_type": "execute_result"
    }
   ],
   "source": [
    "df[\"State\"].value_counts().head().index"
   ]
  },
  {
   "cell_type": "code",
   "execution_count": 12,
   "metadata": {},
   "outputs": [
    {
     "data": {
      "text/html": [
       "<div>\n",
       "<style>\n",
       "    .dataframe thead tr:only-child th {\n",
       "        text-align: right;\n",
       "    }\n",
       "\n",
       "    .dataframe thead th {\n",
       "        text-align: left;\n",
       "    }\n",
       "\n",
       "    .dataframe tbody tr th {\n",
       "        vertical-align: top;\n",
       "    }\n",
       "</style>\n",
       "<table border=\"1\" class=\"dataframe\">\n",
       "  <thead>\n",
       "    <tr style=\"text-align: right;\">\n",
       "      <th></th>\n",
       "      <th>State</th>\n",
       "      <th>Account length</th>\n",
       "      <th>Area code</th>\n",
       "      <th>International plan</th>\n",
       "      <th>Voice mail plan</th>\n",
       "      <th>Number vmail messages</th>\n",
       "      <th>Total day minutes</th>\n",
       "      <th>Total day calls</th>\n",
       "      <th>Total day charge</th>\n",
       "      <th>Total eve minutes</th>\n",
       "      <th>Total eve calls</th>\n",
       "      <th>Total eve charge</th>\n",
       "      <th>Total night minutes</th>\n",
       "      <th>Total night calls</th>\n",
       "      <th>Total night charge</th>\n",
       "      <th>Total intl minutes</th>\n",
       "      <th>Total intl calls</th>\n",
       "      <th>Total intl charge</th>\n",
       "      <th>Customer service calls</th>\n",
       "      <th>Churn</th>\n",
       "    </tr>\n",
       "  </thead>\n",
       "  <tbody>\n",
       "    <tr>\n",
       "      <th>5</th>\n",
       "      <td>AL</td>\n",
       "      <td>118</td>\n",
       "      <td>510</td>\n",
       "      <td>Yes</td>\n",
       "      <td>No</td>\n",
       "      <td>0</td>\n",
       "      <td>223.4</td>\n",
       "      <td>98</td>\n",
       "      <td>37.98</td>\n",
       "      <td>220.6</td>\n",
       "      <td>101</td>\n",
       "      <td>18.75</td>\n",
       "      <td>203.9</td>\n",
       "      <td>118</td>\n",
       "      <td>9.18</td>\n",
       "      <td>6.3</td>\n",
       "      <td>6</td>\n",
       "      <td>1.70</td>\n",
       "      <td>0</td>\n",
       "      <td>False</td>\n",
       "    </tr>\n",
       "    <tr>\n",
       "      <th>9</th>\n",
       "      <td>WV</td>\n",
       "      <td>141</td>\n",
       "      <td>415</td>\n",
       "      <td>Yes</td>\n",
       "      <td>Yes</td>\n",
       "      <td>37</td>\n",
       "      <td>258.6</td>\n",
       "      <td>84</td>\n",
       "      <td>43.96</td>\n",
       "      <td>222.0</td>\n",
       "      <td>111</td>\n",
       "      <td>18.87</td>\n",
       "      <td>326.4</td>\n",
       "      <td>97</td>\n",
       "      <td>14.69</td>\n",
       "      <td>11.2</td>\n",
       "      <td>5</td>\n",
       "      <td>3.02</td>\n",
       "      <td>0</td>\n",
       "      <td>False</td>\n",
       "    </tr>\n",
       "    <tr>\n",
       "      <th>15</th>\n",
       "      <td>NY</td>\n",
       "      <td>161</td>\n",
       "      <td>415</td>\n",
       "      <td>No</td>\n",
       "      <td>No</td>\n",
       "      <td>0</td>\n",
       "      <td>332.9</td>\n",
       "      <td>67</td>\n",
       "      <td>56.59</td>\n",
       "      <td>317.8</td>\n",
       "      <td>97</td>\n",
       "      <td>27.01</td>\n",
       "      <td>160.6</td>\n",
       "      <td>128</td>\n",
       "      <td>7.23</td>\n",
       "      <td>5.4</td>\n",
       "      <td>9</td>\n",
       "      <td>1.46</td>\n",
       "      <td>4</td>\n",
       "      <td>True</td>\n",
       "    </tr>\n",
       "    <tr>\n",
       "      <th>45</th>\n",
       "      <td>OR</td>\n",
       "      <td>59</td>\n",
       "      <td>408</td>\n",
       "      <td>No</td>\n",
       "      <td>Yes</td>\n",
       "      <td>28</td>\n",
       "      <td>120.9</td>\n",
       "      <td>97</td>\n",
       "      <td>20.55</td>\n",
       "      <td>213.0</td>\n",
       "      <td>92</td>\n",
       "      <td>18.11</td>\n",
       "      <td>163.1</td>\n",
       "      <td>116</td>\n",
       "      <td>7.34</td>\n",
       "      <td>8.5</td>\n",
       "      <td>5</td>\n",
       "      <td>2.30</td>\n",
       "      <td>2</td>\n",
       "      <td>False</td>\n",
       "    </tr>\n",
       "    <tr>\n",
       "      <th>62</th>\n",
       "      <td>MN</td>\n",
       "      <td>74</td>\n",
       "      <td>510</td>\n",
       "      <td>No</td>\n",
       "      <td>Yes</td>\n",
       "      <td>33</td>\n",
       "      <td>193.7</td>\n",
       "      <td>91</td>\n",
       "      <td>32.93</td>\n",
       "      <td>246.1</td>\n",
       "      <td>96</td>\n",
       "      <td>20.92</td>\n",
       "      <td>138.0</td>\n",
       "      <td>92</td>\n",
       "      <td>6.21</td>\n",
       "      <td>14.6</td>\n",
       "      <td>3</td>\n",
       "      <td>3.94</td>\n",
       "      <td>2</td>\n",
       "      <td>False</td>\n",
       "    </tr>\n",
       "  </tbody>\n",
       "</table>\n",
       "</div>"
      ],
      "text/plain": [
       "   State  Account length  Area code International plan Voice mail plan  \\\n",
       "5     AL             118        510                Yes              No   \n",
       "9     WV             141        415                Yes             Yes   \n",
       "15    NY             161        415                 No              No   \n",
       "45    OR              59        408                 No             Yes   \n",
       "62    MN              74        510                 No             Yes   \n",
       "\n",
       "    Number vmail messages  Total day minutes  Total day calls  \\\n",
       "5                       0              223.4               98   \n",
       "9                      37              258.6               84   \n",
       "15                      0              332.9               67   \n",
       "45                     28              120.9               97   \n",
       "62                     33              193.7               91   \n",
       "\n",
       "    Total day charge  Total eve minutes  Total eve calls  Total eve charge  \\\n",
       "5              37.98              220.6              101             18.75   \n",
       "9              43.96              222.0              111             18.87   \n",
       "15             56.59              317.8               97             27.01   \n",
       "45             20.55              213.0               92             18.11   \n",
       "62             32.93              246.1               96             20.92   \n",
       "\n",
       "    Total night minutes  Total night calls  Total night charge  \\\n",
       "5                 203.9                118                9.18   \n",
       "9                 326.4                 97               14.69   \n",
       "15                160.6                128                7.23   \n",
       "45                163.1                116                7.34   \n",
       "62                138.0                 92                6.21   \n",
       "\n",
       "    Total intl minutes  Total intl calls  Total intl charge  \\\n",
       "5                  6.3                 6               1.70   \n",
       "9                 11.2                 5               3.02   \n",
       "15                 5.4                 9               1.46   \n",
       "45                 8.5                 5               2.30   \n",
       "62                14.6                 3               3.94   \n",
       "\n",
       "    Customer service calls  Churn  \n",
       "5                        0  False  \n",
       "9                        0  False  \n",
       "15                       4   True  \n",
       "45                       2  False  \n",
       "62                       2  False  "
      ]
     },
     "execution_count": 12,
     "metadata": {},
     "output_type": "execute_result"
    }
   ],
   "source": [
    "df[df['State'].isin(df[\"State\"].\\\n",
    "                    value_counts().head().index)].head()"
   ]
  },
  {
   "cell_type": "code",
   "execution_count": 13,
   "metadata": {},
   "outputs": [
    {
     "data": {
      "text/plain": [
       "5     AL\n",
       "9     WV\n",
       "15    NY\n",
       "45    OR\n",
       "62    MN\n",
       "Name: State, dtype: object"
      ]
     },
     "execution_count": 13,
     "metadata": {},
     "output_type": "execute_result"
    }
   ],
   "source": [
    "df[df['State'].isin(df[\"State\"].\\\n",
    "                    value_counts().head().index)]['State'].head()"
   ]
  },
  {
   "cell_type": "code",
   "execution_count": 23,
   "metadata": {},
   "outputs": [
    {
     "data": {
      "text/plain": [
       "<matplotlib.axes._subplots.AxesSubplot at 0x1d4132caa90>"
      ]
     },
     "execution_count": 23,
     "metadata": {},
     "output_type": "execute_result"
    },
    {
     "data": {
      "image/png": "[encoded data removed]",
      "text/plain": [
       "<matplotlib.figure.Figure at 0x1d4132cbcf8>"
      ]
     },
     "metadata": {},
     "output_type": "display_data"
    }
   ],
   "source": [
    "sns.countplot(df[df['State'].isin(df[\"State\"].\\\n",
    "                    value_counts().head().index)]['State'])"
   ]
  },
  {
   "cell_type": "markdown",
   "metadata": {},
   "source": [
    "## 2. Взаимодействие"
   ]
  },
  {
   "cell_type": "markdown",
   "metadata": {},
   "source": [
    "### 2.1. Количественные с количественными"
   ]
  },
  {
   "cell_type": "code",
   "execution_count": 24,
   "metadata": {},
   "outputs": [
    {
     "data": {
      "text/plain": [
       "Index(['State', 'Account length', 'Area code', 'International plan',\n",
       "       'Voice mail plan', 'Number vmail messages', 'Total day minutes',\n",
       "       'Total day calls', 'Total day charge', 'Total eve minutes',\n",
       "       'Total eve calls', 'Total eve charge', 'Total night minutes',\n",
       "       'Total night calls', 'Total night charge', 'Total intl minutes',\n",
       "       'Total intl calls', 'Total intl charge', 'Customer service calls',\n",
       "       'Churn'],\n",
       "      dtype='object')"
      ]
     },
     "execution_count": 24,
     "metadata": {},
     "output_type": "execute_result"
    }
   ],
   "source": [
    "df.columns"
   ]
  },
  {
   "cell_type": "code",
   "execution_count": 25,
   "metadata": {
    "collapsed": true
   },
   "outputs": [],
   "source": [
    "feat = [f for f in df.columns if 'charge' in f]"
   ]
  },
  {
   "cell_type": "code",
   "execution_count": 26,
   "metadata": {},
   "outputs": [
    {
     "data": {
      "text/plain": [
       "['Total day charge',\n",
       " 'Total eve charge',\n",
       " 'Total night charge',\n",
       " 'Total intl charge']"
      ]
     },
     "execution_count": 26,
     "metadata": {},
     "output_type": "execute_result"
    }
   ],
   "source": [
    "feat"
   ]
  },
  {
   "cell_type": "code",
   "execution_count": 28,
   "metadata": {},
   "outputs": [
    {
     "data": {
      "text/html": [
       "<div>\n",
       "<style>\n",
       "    .dataframe thead tr:only-child th {\n",
       "        text-align: right;\n",
       "    }\n",
       "\n",
       "    .dataframe thead th {\n",
       "        text-align: left;\n",
       "    }\n",
       "\n",
       "    .dataframe tbody tr th {\n",
       "        vertical-align: top;\n",
       "    }\n",
       "</style>\n",
       "<table border=\"1\" class=\"dataframe\">\n",
       "  <thead>\n",
       "    <tr style=\"text-align: right;\">\n",
       "      <th></th>\n",
       "      <th>Total day charge</th>\n",
       "      <th>Total eve charge</th>\n",
       "      <th>Total night charge</th>\n",
       "      <th>Total intl charge</th>\n",
       "    </tr>\n",
       "  </thead>\n",
       "  <tbody>\n",
       "    <tr>\n",
       "      <th>0</th>\n",
       "      <td>45.07</td>\n",
       "      <td>16.78</td>\n",
       "      <td>11.01</td>\n",
       "      <td>2.70</td>\n",
       "    </tr>\n",
       "    <tr>\n",
       "      <th>1</th>\n",
       "      <td>27.47</td>\n",
       "      <td>16.62</td>\n",
       "      <td>11.45</td>\n",
       "      <td>3.70</td>\n",
       "    </tr>\n",
       "    <tr>\n",
       "      <th>2</th>\n",
       "      <td>41.38</td>\n",
       "      <td>10.30</td>\n",
       "      <td>7.32</td>\n",
       "      <td>3.29</td>\n",
       "    </tr>\n",
       "    <tr>\n",
       "      <th>3</th>\n",
       "      <td>50.90</td>\n",
       "      <td>5.26</td>\n",
       "      <td>8.86</td>\n",
       "      <td>1.78</td>\n",
       "    </tr>\n",
       "    <tr>\n",
       "      <th>4</th>\n",
       "      <td>28.34</td>\n",
       "      <td>12.61</td>\n",
       "      <td>8.41</td>\n",
       "      <td>2.73</td>\n",
       "    </tr>\n",
       "  </tbody>\n",
       "</table>\n",
       "</div>"
      ],
      "text/plain": [
       "   Total day charge  Total eve charge  Total night charge  Total intl charge\n",
       "0             45.07             16.78               11.01               2.70\n",
       "1             27.47             16.62               11.45               3.70\n",
       "2             41.38             10.30                7.32               3.29\n",
       "3             50.90              5.26                8.86               1.78\n",
       "4             28.34             12.61                8.41               2.73"
      ]
     },
     "execution_count": 28,
     "metadata": {},
     "output_type": "execute_result"
    }
   ],
   "source": [
    "df[feat].head()"
   ]
  },
  {
   "cell_type": "code",
   "execution_count": 29,
   "metadata": {},
   "outputs": [
    {
     "data": {
      "image/png": "[encoded data removed]",
      "text/plain": [
       "<matplotlib.figure.Figure at 0x1d4131c37f0>"
      ]
     },
     "metadata": {},
     "output_type": "display_data"
    }
   ],
   "source": [
    "df[feat].hist();"
   ]
  },
  {
   "cell_type": "markdown",
   "metadata": {},
   "source": [
    "взаимодействие:"
   ]
  },
  {
   "cell_type": "markdown",
   "metadata": {},
   "source": [
    "Диагорамма рассеивания"
   ]
  },
  {
   "cell_type": "code",
   "execution_count": 30,
   "metadata": {},
   "outputs": [
    {
     "data": {
      "image/png": "[encoded data removed]",
      "text/plain": [
       "<matplotlib.figure.Figure at 0x1d412dcb9e8>"
      ]
     },
     "metadata": {},
     "output_type": "display_data"
    }
   ],
   "source": [
    "sns.pairplot(df[feat]);"
   ]
  },
  {
   "cell_type": "markdown",
   "metadata": {},
   "source": [
    "Может использоваться для малого набора признаков"
   ]
  },
  {
   "cell_type": "code",
   "execution_count": 48,
   "metadata": {},
   "outputs": [
    {
     "data": {
      "image/png": "[encoded data removed]",
      "text/plain": [
       "<matplotlib.figure.Figure at 0x1d412bee4a8>"
      ]
     },
     "metadata": {},
     "output_type": "display_data"
    }
   ],
   "source": [
    "plt.scatter(df['Total eve charge'], \\\n",
    "            df['Total intl charge'],\n",
    "           color=df['Churn'].map({False: 'blue', True: 'orange'}));\n",
    "plt.xlabel('Вечерние начисления'); #подпись по x\n",
    "# plt.xlabel(r'Вечерние начисления $a^2 + b^2$');\n",
    "plt.ylabel('Межнар. начисления'); #подпись по y"
   ]
  },
  {
   "cell_type": "code",
   "execution_count": 40,
   "metadata": {},
   "outputs": [
    {
     "data": {
      "text/plain": [
       "0    blue\n",
       "1    blue\n",
       "2    blue\n",
       "3    blue\n",
       "4    blue\n",
       "Name: Churn, dtype: object"
      ]
     },
     "execution_count": 40,
     "metadata": {},
     "output_type": "execute_result"
    }
   ],
   "source": [
    "df['Churn'].map({False: 'blue', True: 'orange'}).head()"
   ]
  },
  {
   "cell_type": "code",
   "execution_count": 50,
   "metadata": {},
   "outputs": [
    {
     "data": {
      "image/png": "[encoded data removed]",
      "text/plain": [
       "<matplotlib.figure.Figure at 0x1d412bcc358>"
      ]
     },
     "metadata": {},
     "output_type": "display_data"
    }
   ],
   "source": [
    "plt.scatter(df[df['Churn']]['Total eve charge'], \\\n",
    "            df[df['Churn']]['Total intl charge'],\\\n",
    "            color='orange',\\\n",
    "           label='churn');\n",
    "plt.scatter(df[-df['Churn']]['Total eve charge'], \\\n",
    "            df[-df['Churn']]['Total intl charge'],\\\n",
    "            color='blue',\\\n",
    "           label='loyal');\n",
    "plt.xlabel('Вечерние начисления'); #подпись по x\n",
    "# plt.xlabel(r'Вечерние начисления $a^2 + b^2$');\n",
    "plt.ylabel('Межнар. начисления'); #подпись по y\n",
    "plt.legend();\n",
    "plt.title('Распределение начислений');"
   ]
  },
  {
   "cell_type": "markdown",
   "metadata": {},
   "source": [
    "Кореляция"
   ]
  },
  {
   "cell_type": "code",
   "execution_count": 51,
   "metadata": {},
   "outputs": [
    {
     "data": {
      "text/html": [
       "<div>\n",
       "<style>\n",
       "    .dataframe thead tr:only-child th {\n",
       "        text-align: right;\n",
       "    }\n",
       "\n",
       "    .dataframe thead th {\n",
       "        text-align: left;\n",
       "    }\n",
       "\n",
       "    .dataframe tbody tr th {\n",
       "        vertical-align: top;\n",
       "    }\n",
       "</style>\n",
       "<table border=\"1\" class=\"dataframe\">\n",
       "  <thead>\n",
       "    <tr style=\"text-align: right;\">\n",
       "      <th></th>\n",
       "      <th>Account length</th>\n",
       "      <th>Area code</th>\n",
       "      <th>Number vmail messages</th>\n",
       "      <th>Total day minutes</th>\n",
       "      <th>Total day calls</th>\n",
       "      <th>Total day charge</th>\n",
       "      <th>Total eve minutes</th>\n",
       "      <th>Total eve calls</th>\n",
       "      <th>Total eve charge</th>\n",
       "      <th>Total night minutes</th>\n",
       "      <th>Total night calls</th>\n",
       "      <th>Total night charge</th>\n",
       "      <th>Total intl minutes</th>\n",
       "      <th>Total intl calls</th>\n",
       "      <th>Total intl charge</th>\n",
       "      <th>Customer service calls</th>\n",
       "      <th>Churn</th>\n",
       "    </tr>\n",
       "  </thead>\n",
       "  <tbody>\n",
       "    <tr>\n",
       "      <th>Account length</th>\n",
       "      <td>1.000000</td>\n",
       "      <td>-0.012463</td>\n",
       "      <td>-0.004628</td>\n",
       "      <td>0.006216</td>\n",
       "      <td>0.038470</td>\n",
       "      <td>0.006214</td>\n",
       "      <td>-0.006757</td>\n",
       "      <td>0.019260</td>\n",
       "      <td>-0.006745</td>\n",
       "      <td>-0.008955</td>\n",
       "      <td>-0.013176</td>\n",
       "      <td>-0.008960</td>\n",
       "      <td>0.009514</td>\n",
       "      <td>0.020661</td>\n",
       "      <td>0.009546</td>\n",
       "      <td>-0.003796</td>\n",
       "      <td>0.016541</td>\n",
       "    </tr>\n",
       "    <tr>\n",
       "      <th>Area code</th>\n",
       "      <td>-0.012463</td>\n",
       "      <td>1.000000</td>\n",
       "      <td>-0.001994</td>\n",
       "      <td>-0.008264</td>\n",
       "      <td>-0.009646</td>\n",
       "      <td>-0.008264</td>\n",
       "      <td>0.003580</td>\n",
       "      <td>-0.011886</td>\n",
       "      <td>0.003607</td>\n",
       "      <td>-0.005825</td>\n",
       "      <td>0.016522</td>\n",
       "      <td>-0.005845</td>\n",
       "      <td>-0.018288</td>\n",
       "      <td>-0.024179</td>\n",
       "      <td>-0.018395</td>\n",
       "      <td>0.027572</td>\n",
       "      <td>0.006174</td>\n",
       "    </tr>\n",
       "    <tr>\n",
       "      <th>Number vmail messages</th>\n",
       "      <td>-0.004628</td>\n",
       "      <td>-0.001994</td>\n",
       "      <td>1.000000</td>\n",
       "      <td>0.000778</td>\n",
       "      <td>-0.009548</td>\n",
       "      <td>0.000776</td>\n",
       "      <td>0.017562</td>\n",
       "      <td>-0.005864</td>\n",
       "      <td>0.017578</td>\n",
       "      <td>0.007681</td>\n",
       "      <td>0.007123</td>\n",
       "      <td>0.007663</td>\n",
       "      <td>0.002856</td>\n",
       "      <td>0.013957</td>\n",
       "      <td>0.002884</td>\n",
       "      <td>-0.013263</td>\n",
       "      <td>-0.089728</td>\n",
       "    </tr>\n",
       "    <tr>\n",
       "      <th>Total day minutes</th>\n",
       "      <td>0.006216</td>\n",
       "      <td>-0.008264</td>\n",
       "      <td>0.000778</td>\n",
       "      <td>1.000000</td>\n",
       "      <td>0.006750</td>\n",
       "      <td>1.000000</td>\n",
       "      <td>0.007043</td>\n",
       "      <td>0.015769</td>\n",
       "      <td>0.007029</td>\n",
       "      <td>0.004323</td>\n",
       "      <td>0.022972</td>\n",
       "      <td>0.004300</td>\n",
       "      <td>-0.010155</td>\n",
       "      <td>0.008033</td>\n",
       "      <td>-0.010092</td>\n",
       "      <td>-0.013423</td>\n",
       "      <td>0.205151</td>\n",
       "    </tr>\n",
       "    <tr>\n",
       "      <th>Total day calls</th>\n",
       "      <td>0.038470</td>\n",
       "      <td>-0.009646</td>\n",
       "      <td>-0.009548</td>\n",
       "      <td>0.006750</td>\n",
       "      <td>1.000000</td>\n",
       "      <td>0.006753</td>\n",
       "      <td>-0.021451</td>\n",
       "      <td>0.006462</td>\n",
       "      <td>-0.021449</td>\n",
       "      <td>0.022938</td>\n",
       "      <td>-0.019557</td>\n",
       "      <td>0.022927</td>\n",
       "      <td>0.021565</td>\n",
       "      <td>0.004574</td>\n",
       "      <td>0.021666</td>\n",
       "      <td>-0.018942</td>\n",
       "      <td>0.018459</td>\n",
       "    </tr>\n",
       "    <tr>\n",
       "      <th>Total day charge</th>\n",
       "      <td>0.006214</td>\n",
       "      <td>-0.008264</td>\n",
       "      <td>0.000776</td>\n",
       "      <td>1.000000</td>\n",
       "      <td>0.006753</td>\n",
       "      <td>1.000000</td>\n",
       "      <td>0.007050</td>\n",
       "      <td>0.015769</td>\n",
       "      <td>0.007036</td>\n",
       "      <td>0.004324</td>\n",
       "      <td>0.022972</td>\n",
       "      <td>0.004301</td>\n",
       "      <td>-0.010157</td>\n",
       "      <td>0.008032</td>\n",
       "      <td>-0.010094</td>\n",
       "      <td>-0.013427</td>\n",
       "      <td>0.205151</td>\n",
       "    </tr>\n",
       "    <tr>\n",
       "      <th>Total eve minutes</th>\n",
       "      <td>-0.006757</td>\n",
       "      <td>0.003580</td>\n",
       "      <td>0.017562</td>\n",
       "      <td>0.007043</td>\n",
       "      <td>-0.021451</td>\n",
       "      <td>0.007050</td>\n",
       "      <td>1.000000</td>\n",
       "      <td>-0.011430</td>\n",
       "      <td>1.000000</td>\n",
       "      <td>-0.012584</td>\n",
       "      <td>0.007586</td>\n",
       "      <td>-0.012593</td>\n",
       "      <td>-0.011035</td>\n",
       "      <td>0.002541</td>\n",
       "      <td>-0.011067</td>\n",
       "      <td>-0.012985</td>\n",
       "      <td>0.092796</td>\n",
       "    </tr>\n",
       "    <tr>\n",
       "      <th>Total eve calls</th>\n",
       "      <td>0.019260</td>\n",
       "      <td>-0.011886</td>\n",
       "      <td>-0.005864</td>\n",
       "      <td>0.015769</td>\n",
       "      <td>0.006462</td>\n",
       "      <td>0.015769</td>\n",
       "      <td>-0.011430</td>\n",
       "      <td>1.000000</td>\n",
       "      <td>-0.011423</td>\n",
       "      <td>-0.002093</td>\n",
       "      <td>0.007710</td>\n",
       "      <td>-0.002056</td>\n",
       "      <td>0.008703</td>\n",
       "      <td>0.017434</td>\n",
       "      <td>0.008674</td>\n",
       "      <td>0.002423</td>\n",
       "      <td>0.009233</td>\n",
       "    </tr>\n",
       "    <tr>\n",
       "      <th>Total eve charge</th>\n",
       "      <td>-0.006745</td>\n",
       "      <td>0.003607</td>\n",
       "      <td>0.017578</td>\n",
       "      <td>0.007029</td>\n",
       "      <td>-0.021449</td>\n",
       "      <td>0.007036</td>\n",
       "      <td>1.000000</td>\n",
       "      <td>-0.011423</td>\n",
       "      <td>1.000000</td>\n",
       "      <td>-0.012592</td>\n",
       "      <td>0.007596</td>\n",
       "      <td>-0.012601</td>\n",
       "      <td>-0.011043</td>\n",
       "      <td>0.002541</td>\n",
       "      <td>-0.011074</td>\n",
       "      <td>-0.012987</td>\n",
       "      <td>0.092786</td>\n",
       "    </tr>\n",
       "    <tr>\n",
       "      <th>Total night minutes</th>\n",
       "      <td>-0.008955</td>\n",
       "      <td>-0.005825</td>\n",
       "      <td>0.007681</td>\n",
       "      <td>0.004323</td>\n",
       "      <td>0.022938</td>\n",
       "      <td>0.004324</td>\n",
       "      <td>-0.012584</td>\n",
       "      <td>-0.002093</td>\n",
       "      <td>-0.012592</td>\n",
       "      <td>1.000000</td>\n",
       "      <td>0.011204</td>\n",
       "      <td>0.999999</td>\n",
       "      <td>-0.015207</td>\n",
       "      <td>-0.012353</td>\n",
       "      <td>-0.015180</td>\n",
       "      <td>-0.009288</td>\n",
       "      <td>0.035493</td>\n",
       "    </tr>\n",
       "    <tr>\n",
       "      <th>Total night calls</th>\n",
       "      <td>-0.013176</td>\n",
       "      <td>0.016522</td>\n",
       "      <td>0.007123</td>\n",
       "      <td>0.022972</td>\n",
       "      <td>-0.019557</td>\n",
       "      <td>0.022972</td>\n",
       "      <td>0.007586</td>\n",
       "      <td>0.007710</td>\n",
       "      <td>0.007596</td>\n",
       "      <td>0.011204</td>\n",
       "      <td>1.000000</td>\n",
       "      <td>0.011188</td>\n",
       "      <td>-0.013605</td>\n",
       "      <td>0.000305</td>\n",
       "      <td>-0.013630</td>\n",
       "      <td>-0.012802</td>\n",
       "      <td>0.006141</td>\n",
       "    </tr>\n",
       "    <tr>\n",
       "      <th>Total night charge</th>\n",
       "      <td>-0.008960</td>\n",
       "      <td>-0.005845</td>\n",
       "      <td>0.007663</td>\n",
       "      <td>0.004300</td>\n",
       "      <td>0.022927</td>\n",
       "      <td>0.004301</td>\n",
       "      <td>-0.012593</td>\n",
       "      <td>-0.002056</td>\n",
       "      <td>-0.012601</td>\n",
       "      <td>0.999999</td>\n",
       "      <td>0.011188</td>\n",
       "      <td>1.000000</td>\n",
       "      <td>-0.015214</td>\n",
       "      <td>-0.012329</td>\n",
       "      <td>-0.015186</td>\n",
       "      <td>-0.009277</td>\n",
       "      <td>0.035496</td>\n",
       "    </tr>\n",
       "    <tr>\n",
       "      <th>Total intl minutes</th>\n",
       "      <td>0.009514</td>\n",
       "      <td>-0.018288</td>\n",
       "      <td>0.002856</td>\n",
       "      <td>-0.010155</td>\n",
       "      <td>0.021565</td>\n",
       "      <td>-0.010157</td>\n",
       "      <td>-0.011035</td>\n",
       "      <td>0.008703</td>\n",
       "      <td>-0.011043</td>\n",
       "      <td>-0.015207</td>\n",
       "      <td>-0.013605</td>\n",
       "      <td>-0.015214</td>\n",
       "      <td>1.000000</td>\n",
       "      <td>0.032304</td>\n",
       "      <td>0.999993</td>\n",
       "      <td>-0.009640</td>\n",
       "      <td>0.068239</td>\n",
       "    </tr>\n",
       "    <tr>\n",
       "      <th>Total intl calls</th>\n",
       "      <td>0.020661</td>\n",
       "      <td>-0.024179</td>\n",
       "      <td>0.013957</td>\n",
       "      <td>0.008033</td>\n",
       "      <td>0.004574</td>\n",
       "      <td>0.008032</td>\n",
       "      <td>0.002541</td>\n",
       "      <td>0.017434</td>\n",
       "      <td>0.002541</td>\n",
       "      <td>-0.012353</td>\n",
       "      <td>0.000305</td>\n",
       "      <td>-0.012329</td>\n",
       "      <td>0.032304</td>\n",
       "      <td>1.000000</td>\n",
       "      <td>0.032372</td>\n",
       "      <td>-0.017561</td>\n",
       "      <td>-0.052844</td>\n",
       "    </tr>\n",
       "    <tr>\n",
       "      <th>Total intl charge</th>\n",
       "      <td>0.009546</td>\n",
       "      <td>-0.018395</td>\n",
       "      <td>0.002884</td>\n",
       "      <td>-0.010092</td>\n",
       "      <td>0.021666</td>\n",
       "      <td>-0.010094</td>\n",
       "      <td>-0.011067</td>\n",
       "      <td>0.008674</td>\n",
       "      <td>-0.011074</td>\n",
       "      <td>-0.015180</td>\n",
       "      <td>-0.013630</td>\n",
       "      <td>-0.015186</td>\n",
       "      <td>0.999993</td>\n",
       "      <td>0.032372</td>\n",
       "      <td>1.000000</td>\n",
       "      <td>-0.009675</td>\n",
       "      <td>0.068259</td>\n",
       "    </tr>\n",
       "    <tr>\n",
       "      <th>Customer service calls</th>\n",
       "      <td>-0.003796</td>\n",
       "      <td>0.027572</td>\n",
       "      <td>-0.013263</td>\n",
       "      <td>-0.013423</td>\n",
       "      <td>-0.018942</td>\n",
       "      <td>-0.013427</td>\n",
       "      <td>-0.012985</td>\n",
       "      <td>0.002423</td>\n",
       "      <td>-0.012987</td>\n",
       "      <td>-0.009288</td>\n",
       "      <td>-0.012802</td>\n",
       "      <td>-0.009277</td>\n",
       "      <td>-0.009640</td>\n",
       "      <td>-0.017561</td>\n",
       "      <td>-0.009675</td>\n",
       "      <td>1.000000</td>\n",
       "      <td>0.208750</td>\n",
       "    </tr>\n",
       "    <tr>\n",
       "      <th>Churn</th>\n",
       "      <td>0.016541</td>\n",
       "      <td>0.006174</td>\n",
       "      <td>-0.089728</td>\n",
       "      <td>0.205151</td>\n",
       "      <td>0.018459</td>\n",
       "      <td>0.205151</td>\n",
       "      <td>0.092796</td>\n",
       "      <td>0.009233</td>\n",
       "      <td>0.092786</td>\n",
       "      <td>0.035493</td>\n",
       "      <td>0.006141</td>\n",
       "      <td>0.035496</td>\n",
       "      <td>0.068239</td>\n",
       "      <td>-0.052844</td>\n",
       "      <td>0.068259</td>\n",
       "      <td>0.208750</td>\n",
       "      <td>1.000000</td>\n",
       "    </tr>\n",
       "  </tbody>\n",
       "</table>\n",
       "</div>"
      ],
      "text/plain": [
       "                        Account length  Area code  Number vmail messages  \\\n",
       "Account length                1.000000  -0.012463              -0.004628   \n",
       "Area code                    -0.012463   1.000000              -0.001994   \n",
       "Number vmail messages        -0.004628  -0.001994               1.000000   \n",
       "Total day minutes             0.006216  -0.008264               0.000778   \n",
       "Total day calls               0.038470  -0.009646              -0.009548   \n",
       "Total day charge              0.006214  -0.008264               0.000776   \n",
       "Total eve minutes            -0.006757   0.003580               0.017562   \n",
       "Total eve calls               0.019260  -0.011886              -0.005864   \n",
       "Total eve charge             -0.006745   0.003607               0.017578   \n",
       "Total night minutes          -0.008955  -0.005825               0.007681   \n",
       "Total night calls            -0.013176   0.016522               0.007123   \n",
       "Total night charge           -0.008960  -0.005845               0.007663   \n",
       "Total intl minutes            0.009514  -0.018288               0.002856   \n",
       "Total intl calls              0.020661  -0.024179               0.013957   \n",
       "Total intl charge             0.009546  -0.018395               0.002884   \n",
       "Customer service calls       -0.003796   0.027572              -0.013263   \n",
       "Churn                         0.016541   0.006174              -0.089728   \n",
       "\n",
       "                        Total day minutes  Total day calls  Total day charge  \\\n",
       "Account length                   0.006216         0.038470          0.006214   \n",
       "Area code                       -0.008264        -0.009646         -0.008264   \n",
       "Number vmail messages            0.000778        -0.009548          0.000776   \n",
       "Total day minutes                1.000000         0.006750          1.000000   \n",
       "Total day calls                  0.006750         1.000000          0.006753   \n",
       "Total day charge                 1.000000         0.006753          1.000000   \n",
       "Total eve minutes                0.007043        -0.021451          0.007050   \n",
       "Total eve calls                  0.015769         0.006462          0.015769   \n",
       "Total eve charge                 0.007029        -0.021449          0.007036   \n",
       "Total night minutes              0.004323         0.022938          0.004324   \n",
       "Total night calls                0.022972        -0.019557          0.022972   \n",
       "Total night charge               0.004300         0.022927          0.004301   \n",
       "Total intl minutes              -0.010155         0.021565         -0.010157   \n",
       "Total intl calls                 0.008033         0.004574          0.008032   \n",
       "Total intl charge               -0.010092         0.021666         -0.010094   \n",
       "Customer service calls          -0.013423        -0.018942         -0.013427   \n",
       "Churn                            0.205151         0.018459          0.205151   \n",
       "\n",
       "                        Total eve minutes  Total eve calls  Total eve charge  \\\n",
       "Account length                  -0.006757         0.019260         -0.006745   \n",
       "Area code                        0.003580        -0.011886          0.003607   \n",
       "Number vmail messages            0.017562        -0.005864          0.017578   \n",
       "Total day minutes                0.007043         0.015769          0.007029   \n",
       "Total day calls                 -0.021451         0.006462         -0.021449   \n",
       "Total day charge                 0.007050         0.015769          0.007036   \n",
       "Total eve minutes                1.000000        -0.011430          1.000000   \n",
       "Total eve calls                 -0.011430         1.000000         -0.011423   \n",
       "Total eve charge                 1.000000        -0.011423          1.000000   \n",
       "Total night minutes             -0.012584        -0.002093         -0.012592   \n",
       "Total night calls                0.007586         0.007710          0.007596   \n",
       "Total night charge              -0.012593        -0.002056         -0.012601   \n",
       "Total intl minutes              -0.011035         0.008703         -0.011043   \n",
       "Total intl calls                 0.002541         0.017434          0.002541   \n",
       "Total intl charge               -0.011067         0.008674         -0.011074   \n",
       "Customer service calls          -0.012985         0.002423         -0.012987   \n",
       "Churn                            0.092796         0.009233          0.092786   \n",
       "\n",
       "                        Total night minutes  Total night calls  \\\n",
       "Account length                    -0.008955          -0.013176   \n",
       "Area code                         -0.005825           0.016522   \n",
       "Number vmail messages              0.007681           0.007123   \n",
       "Total day minutes                  0.004323           0.022972   \n",
       "Total day calls                    0.022938          -0.019557   \n",
       "Total day charge                   0.004324           0.022972   \n",
       "Total eve minutes                 -0.012584           0.007586   \n",
       "Total eve calls                   -0.002093           0.007710   \n",
       "Total eve charge                  -0.012592           0.007596   \n",
       "Total night minutes                1.000000           0.011204   \n",
       "Total night calls                  0.011204           1.000000   \n",
       "Total night charge                 0.999999           0.011188   \n",
       "Total intl minutes                -0.015207          -0.013605   \n",
       "Total intl calls                  -0.012353           0.000305   \n",
       "Total intl charge                 -0.015180          -0.013630   \n",
       "Customer service calls            -0.009288          -0.012802   \n",
       "Churn                              0.035493           0.006141   \n",
       "\n",
       "                        Total night charge  Total intl minutes  \\\n",
       "Account length                   -0.008960            0.009514   \n",
       "Area code                        -0.005845           -0.018288   \n",
       "Number vmail messages             0.007663            0.002856   \n",
       "Total day minutes                 0.004300           -0.010155   \n",
       "Total day calls                   0.022927            0.021565   \n",
       "Total day charge                  0.004301           -0.010157   \n",
       "Total eve minutes                -0.012593           -0.011035   \n",
       "Total eve calls                  -0.002056            0.008703   \n",
       "Total eve charge                 -0.012601           -0.011043   \n",
       "Total night minutes               0.999999           -0.015207   \n",
       "Total night calls                 0.011188           -0.013605   \n",
       "Total night charge                1.000000           -0.015214   \n",
       "Total intl minutes               -0.015214            1.000000   \n",
       "Total intl calls                 -0.012329            0.032304   \n",
       "Total intl charge                -0.015186            0.999993   \n",
       "Customer service calls           -0.009277           -0.009640   \n",
       "Churn                             0.035496            0.068239   \n",
       "\n",
       "                        Total intl calls  Total intl charge  \\\n",
       "Account length                  0.020661           0.009546   \n",
       "Area code                      -0.024179          -0.018395   \n",
       "Number vmail messages           0.013957           0.002884   \n",
       "Total day minutes               0.008033          -0.010092   \n",
       "Total day calls                 0.004574           0.021666   \n",
       "Total day charge                0.008032          -0.010094   \n",
       "Total eve minutes               0.002541          -0.011067   \n",
       "Total eve calls                 0.017434           0.008674   \n",
       "Total eve charge                0.002541          -0.011074   \n",
       "Total night minutes            -0.012353          -0.015180   \n",
       "Total night calls               0.000305          -0.013630   \n",
       "Total night charge             -0.012329          -0.015186   \n",
       "Total intl minutes              0.032304           0.999993   \n",
       "Total intl calls                1.000000           0.032372   \n",
       "Total intl charge               0.032372           1.000000   \n",
       "Customer service calls         -0.017561          -0.009675   \n",
       "Churn                          -0.052844           0.068259   \n",
       "\n",
       "                        Customer service calls     Churn  \n",
       "Account length                       -0.003796  0.016541  \n",
       "Area code                             0.027572  0.006174  \n",
       "Number vmail messages                -0.013263 -0.089728  \n",
       "Total day minutes                    -0.013423  0.205151  \n",
       "Total day calls                      -0.018942  0.018459  \n",
       "Total day charge                     -0.013427  0.205151  \n",
       "Total eve minutes                    -0.012985  0.092796  \n",
       "Total eve calls                       0.002423  0.009233  \n",
       "Total eve charge                     -0.012987  0.092786  \n",
       "Total night minutes                  -0.009288  0.035493  \n",
       "Total night calls                    -0.012802  0.006141  \n",
       "Total night charge                   -0.009277  0.035496  \n",
       "Total intl minutes                   -0.009640  0.068239  \n",
       "Total intl calls                     -0.017561 -0.052844  \n",
       "Total intl charge                    -0.009675  0.068259  \n",
       "Customer service calls                1.000000  0.208750  \n",
       "Churn                                 0.208750  1.000000  "
      ]
     },
     "execution_count": 51,
     "metadata": {},
     "output_type": "execute_result"
    }
   ],
   "source": [
    "df.corr()"
   ]
  },
  {
   "cell_type": "markdown",
   "metadata": {},
   "source": [
    "по-умолчанию это корреляция Пирсона. Она осмысленна только для количественных признаков"
   ]
  },
  {
   "cell_type": "code",
   "execution_count": 54,
   "metadata": {},
   "outputs": [
    {
     "data": {
      "image/png": "[encoded data removed]",
      "text/plain": [
       "<matplotlib.figure.Figure at 0x1d4122e4748>"
      ]
     },
     "metadata": {},
     "output_type": "display_data"
    }
   ],
   "source": [
    "sns.heatmap(df.corr());"
   ]
  },
  {
   "cell_type": "markdown",
   "metadata": {},
   "source": [
    "Сильнокоррелирующие признаки можно удалять"
   ]
  },
  {
   "cell_type": "code",
   "execution_count": 56,
   "metadata": {},
   "outputs": [
    {
     "data": {
      "text/html": [
       "<div>\n",
       "<style>\n",
       "    .dataframe thead tr:only-child th {\n",
       "        text-align: right;\n",
       "    }\n",
       "\n",
       "    .dataframe thead th {\n",
       "        text-align: left;\n",
       "    }\n",
       "\n",
       "    .dataframe tbody tr th {\n",
       "        vertical-align: top;\n",
       "    }\n",
       "</style>\n",
       "<table border=\"1\" class=\"dataframe\">\n",
       "  <thead>\n",
       "    <tr style=\"text-align: right;\">\n",
       "      <th></th>\n",
       "      <th>State</th>\n",
       "      <th>Account length</th>\n",
       "      <th>Area code</th>\n",
       "      <th>International plan</th>\n",
       "      <th>Voice mail plan</th>\n",
       "      <th>Number vmail messages</th>\n",
       "      <th>Total day minutes</th>\n",
       "      <th>Total day calls</th>\n",
       "      <th>Total eve minutes</th>\n",
       "      <th>Total eve calls</th>\n",
       "      <th>Total night minutes</th>\n",
       "      <th>Total night calls</th>\n",
       "      <th>Total intl minutes</th>\n",
       "      <th>Total intl calls</th>\n",
       "      <th>Customer service calls</th>\n",
       "      <th>Churn</th>\n",
       "    </tr>\n",
       "  </thead>\n",
       "  <tbody>\n",
       "    <tr>\n",
       "      <th>0</th>\n",
       "      <td>KS</td>\n",
       "      <td>128</td>\n",
       "      <td>415</td>\n",
       "      <td>No</td>\n",
       "      <td>Yes</td>\n",
       "      <td>25</td>\n",
       "      <td>265.1</td>\n",
       "      <td>110</td>\n",
       "      <td>197.4</td>\n",
       "      <td>99</td>\n",
       "      <td>244.7</td>\n",
       "      <td>91</td>\n",
       "      <td>10.0</td>\n",
       "      <td>3</td>\n",
       "      <td>1</td>\n",
       "      <td>False</td>\n",
       "    </tr>\n",
       "    <tr>\n",
       "      <th>1</th>\n",
       "      <td>OH</td>\n",
       "      <td>107</td>\n",
       "      <td>415</td>\n",
       "      <td>No</td>\n",
       "      <td>Yes</td>\n",
       "      <td>26</td>\n",
       "      <td>161.6</td>\n",
       "      <td>123</td>\n",
       "      <td>195.5</td>\n",
       "      <td>103</td>\n",
       "      <td>254.4</td>\n",
       "      <td>103</td>\n",
       "      <td>13.7</td>\n",
       "      <td>3</td>\n",
       "      <td>1</td>\n",
       "      <td>False</td>\n",
       "    </tr>\n",
       "    <tr>\n",
       "      <th>2</th>\n",
       "      <td>NJ</td>\n",
       "      <td>137</td>\n",
       "      <td>415</td>\n",
       "      <td>No</td>\n",
       "      <td>No</td>\n",
       "      <td>0</td>\n",
       "      <td>243.4</td>\n",
       "      <td>114</td>\n",
       "      <td>121.2</td>\n",
       "      <td>110</td>\n",
       "      <td>162.6</td>\n",
       "      <td>104</td>\n",
       "      <td>12.2</td>\n",
       "      <td>5</td>\n",
       "      <td>0</td>\n",
       "      <td>False</td>\n",
       "    </tr>\n",
       "    <tr>\n",
       "      <th>3</th>\n",
       "      <td>OH</td>\n",
       "      <td>84</td>\n",
       "      <td>408</td>\n",
       "      <td>Yes</td>\n",
       "      <td>No</td>\n",
       "      <td>0</td>\n",
       "      <td>299.4</td>\n",
       "      <td>71</td>\n",
       "      <td>61.9</td>\n",
       "      <td>88</td>\n",
       "      <td>196.9</td>\n",
       "      <td>89</td>\n",
       "      <td>6.6</td>\n",
       "      <td>7</td>\n",
       "      <td>2</td>\n",
       "      <td>False</td>\n",
       "    </tr>\n",
       "    <tr>\n",
       "      <th>4</th>\n",
       "      <td>OK</td>\n",
       "      <td>75</td>\n",
       "      <td>415</td>\n",
       "      <td>Yes</td>\n",
       "      <td>No</td>\n",
       "      <td>0</td>\n",
       "      <td>166.7</td>\n",
       "      <td>113</td>\n",
       "      <td>148.3</td>\n",
       "      <td>122</td>\n",
       "      <td>186.9</td>\n",
       "      <td>121</td>\n",
       "      <td>10.1</td>\n",
       "      <td>3</td>\n",
       "      <td>3</td>\n",
       "      <td>False</td>\n",
       "    </tr>\n",
       "  </tbody>\n",
       "</table>\n",
       "</div>"
      ],
      "text/plain": [
       "  State  Account length  Area code International plan Voice mail plan  \\\n",
       "0    KS             128        415                 No             Yes   \n",
       "1    OH             107        415                 No             Yes   \n",
       "2    NJ             137        415                 No              No   \n",
       "3    OH              84        408                Yes              No   \n",
       "4    OK              75        415                Yes              No   \n",
       "\n",
       "   Number vmail messages  Total day minutes  Total day calls  \\\n",
       "0                     25              265.1              110   \n",
       "1                     26              161.6              123   \n",
       "2                      0              243.4              114   \n",
       "3                      0              299.4               71   \n",
       "4                      0              166.7              113   \n",
       "\n",
       "   Total eve minutes  Total eve calls  Total night minutes  Total night calls  \\\n",
       "0              197.4               99                244.7                 91   \n",
       "1              195.5              103                254.4                103   \n",
       "2              121.2              110                162.6                104   \n",
       "3               61.9               88                196.9                 89   \n",
       "4              148.3              122                186.9                121   \n",
       "\n",
       "   Total intl minutes  Total intl calls  Customer service calls  Churn  \n",
       "0                10.0                 3                       1  False  \n",
       "1                13.7                 3                       1  False  \n",
       "2                12.2                 5                       0  False  \n",
       "3                 6.6                 7                       2  False  \n",
       "4                10.1                 3                       3  False  "
      ]
     },
     "execution_count": 56,
     "metadata": {},
     "output_type": "execute_result"
    }
   ],
   "source": [
    "df.drop(feat, axis=1).head()"
   ]
  },
  {
   "cell_type": "code",
   "execution_count": 57,
   "metadata": {},
   "outputs": [
    {
     "data": {
      "text/plain": [
       "Index(['State', 'Account length', 'Area code', 'International plan',\n",
       "       'Voice mail plan', 'Number vmail messages', 'Total day minutes',\n",
       "       'Total day calls', 'Total day charge', 'Total eve minutes',\n",
       "       'Total eve calls', 'Total eve charge', 'Total night minutes',\n",
       "       'Total night calls', 'Total night charge', 'Total intl minutes',\n",
       "       'Total intl calls', 'Total intl charge', 'Customer service calls',\n",
       "       'Churn'],\n",
       "      dtype='object')"
      ]
     },
     "execution_count": 57,
     "metadata": {},
     "output_type": "execute_result"
    }
   ],
   "source": [
    "df.columns"
   ]
  },
  {
   "cell_type": "code",
   "execution_count": 58,
   "metadata": {},
   "outputs": [
    {
     "data": {
      "text/plain": [
       "Index(['State', 'Account length', 'Area code', 'International plan',\n",
       "       'Voice mail plan', 'Number vmail messages', 'Total day minutes',\n",
       "       'Total day calls', 'Total eve minutes', 'Total eve calls',\n",
       "       'Total night minutes', 'Total night calls', 'Total intl minutes',\n",
       "       'Total intl calls', 'Customer service calls', 'Churn'],\n",
       "      dtype='object')"
      ]
     },
     "execution_count": 58,
     "metadata": {},
     "output_type": "execute_result"
    }
   ],
   "source": [
    "df.drop(feat, axis=1, inplace=True);\n",
    "df.columns"
   ]
  },
  {
   "cell_type": "markdown",
   "metadata": {},
   "source": [
    "Флаг inplace фактически запускает процесс изменения DF"
   ]
  },
  {
   "cell_type": "code",
   "execution_count": 59,
   "metadata": {},
   "outputs": [
    {
     "data": {
      "image/png": "[encoded data removed]",
      "text/plain": [
       "<matplotlib.figure.Figure at 0x1d412cd50f0>"
      ]
     },
     "metadata": {},
     "output_type": "display_data"
    }
   ],
   "source": [
    "sns.heatmap(df.corr());"
   ]
  },
  {
   "cell_type": "markdown",
   "metadata": {},
   "source": [
    "### 2.2. Взаимодействие количеств-категор"
   ]
  },
  {
   "cell_type": "code",
   "execution_count": 61,
   "metadata": {},
   "outputs": [
    {
     "data": {
      "image/png": "[encoded data removed]",
      "text/plain": [
       "<matplotlib.figure.Figure at 0x1d412c80860>"
      ]
     },
     "metadata": {},
     "output_type": "display_data"
    }
   ],
   "source": [
    "sns.boxplot(x='Churn', y='Total day minutes', data=df);"
   ]
  },
  {
   "cell_type": "markdown",
   "metadata": {},
   "source": [
    "По-хорошему тут надо прогонять статистику для гипотезы, что средние отличаются"
   ]
  },
  {
   "cell_type": "markdown",
   "metadata": {},
   "source": [
    "Мы видим, что медианы по группам (ушедших и оставшихся), отличаются"
   ]
  },
  {
   "cell_type": "code",
   "execution_count": 63,
   "metadata": {},
   "outputs": [
    {
     "data": {
      "image/png": "[encoded data removed]",
      "text/plain": [
       "<matplotlib.figure.Figure at 0x1d4127d3780>"
      ]
     },
     "metadata": {},
     "output_type": "display_data"
    }
   ],
   "source": [
    "sns.boxplot(x='State', y='Total day minutes', data=df);"
   ]
  },
  {
   "cell_type": "code",
   "execution_count": 64,
   "metadata": {},
   "outputs": [
    {
     "data": {
      "image/png": "[encoded data removed]",
      "text/plain": [
       "<matplotlib.figure.Figure at 0x1d4125070f0>"
      ]
     },
     "metadata": {},
     "output_type": "display_data"
    }
   ],
   "source": [
    "sns.violinplot(x='Churn', y='Total day minutes', data=df);"
   ]
  },
  {
   "cell_type": "markdown",
   "metadata": {},
   "source": [
    "Виолончель показывает перевернутые гистограммы"
   ]
  },
  {
   "cell_type": "code",
   "execution_count": 69,
   "metadata": {},
   "outputs": [
    {
     "data": {
      "text/plain": [
       "International plan\n",
       "No     178.893887\n",
       "Yes    187.986997\n",
       "Name: Total day minutes, dtype: float64"
      ]
     },
     "execution_count": 69,
     "metadata": {},
     "output_type": "execute_result"
    }
   ],
   "source": [
    "df.groupby('International plan')['Total day minutes'].mean()"
   ]
  },
  {
   "cell_type": "code",
   "execution_count": 70,
   "metadata": {},
   "outputs": [
    {
     "data": {
      "image/png": "[encoded data removed]",
      "text/plain": [
       "<matplotlib.figure.Figure at 0x1d413186d68>"
      ]
     },
     "metadata": {},
     "output_type": "display_data"
    }
   ],
   "source": [
    "sns.boxplot(x='International plan', y='Total day minutes', data=df);"
   ]
  },
  {
   "cell_type": "markdown",
   "metadata": {},
   "source": [
    "### 2.3 Категориальный-категориальный (бинарный)"
   ]
  },
  {
   "cell_type": "code",
   "execution_count": 71,
   "metadata": {},
   "outputs": [
    {
     "data": {
      "text/html": [
       "<div>\n",
       "<style>\n",
       "    .dataframe thead tr:only-child th {\n",
       "        text-align: right;\n",
       "    }\n",
       "\n",
       "    .dataframe thead th {\n",
       "        text-align: left;\n",
       "    }\n",
       "\n",
       "    .dataframe tbody tr th {\n",
       "        vertical-align: top;\n",
       "    }\n",
       "</style>\n",
       "<table border=\"1\" class=\"dataframe\">\n",
       "  <thead>\n",
       "    <tr style=\"text-align: right;\">\n",
       "      <th>International plan</th>\n",
       "      <th>No</th>\n",
       "      <th>Yes</th>\n",
       "    </tr>\n",
       "    <tr>\n",
       "      <th>Churn</th>\n",
       "      <th></th>\n",
       "      <th></th>\n",
       "    </tr>\n",
       "  </thead>\n",
       "  <tbody>\n",
       "    <tr>\n",
       "      <th>False</th>\n",
       "      <td>2664</td>\n",
       "      <td>186</td>\n",
       "    </tr>\n",
       "    <tr>\n",
       "      <th>True</th>\n",
       "      <td>346</td>\n",
       "      <td>137</td>\n",
       "    </tr>\n",
       "  </tbody>\n",
       "</table>\n",
       "</div>"
      ],
      "text/plain": [
       "International plan    No  Yes\n",
       "Churn                        \n",
       "False               2664  186\n",
       "True                 346  137"
      ]
     },
     "execution_count": 71,
     "metadata": {},
     "output_type": "execute_result"
    }
   ],
   "source": [
    "pd.crosstab(df['Churn'], df['International plan'])"
   ]
  },
  {
   "cell_type": "code",
   "execution_count": 74,
   "metadata": {},
   "outputs": [
    {
     "data": {
      "image/png": "[encoded data removed]",
      "text/plain": [
       "<matplotlib.figure.Figure at 0x1d41438fac8>"
      ]
     },
     "metadata": {},
     "output_type": "display_data"
    }
   ],
   "source": [
    "sns.countplot(x='International plan', hue='Churn', data=df);"
   ]
  },
  {
   "cell_type": "code",
   "execution_count": 75,
   "metadata": {},
   "outputs": [
    {
     "data": {
      "image/png": "[encoded data removed]",
      "text/plain": [
       "<matplotlib.figure.Figure at 0x1d4144ed5c0>"
      ]
     },
     "metadata": {},
     "output_type": "display_data"
    }
   ],
   "source": [
    "sns.countplot(x='Customer service calls', hue='Churn', data=df);"
   ]
  },
  {
   "cell_type": "markdown",
   "metadata": {},
   "source": [
    "Гипотеза компактности - все хорошие и плохие кучкуются\n",
    "t-SNE (s.. neighbour embeding) - мы хотим найти отобрежение всего сета на 2-д (3-д) поверхности, низкоразмерное представление (эмбединг, встраивание - произвольное сжатое представление данных). Точки, близкие в исходном пространсте, должны быть близки на новом низкоуровневом."
   ]
  },
  {
   "cell_type": "markdown",
   "metadata": {},
   "source": [
    "tsne не работает со строками. Нужно преобразовать"
   ]
  },
  {
   "cell_type": "code",
   "execution_count": 81,
   "metadata": {
    "collapsed": true
   },
   "outputs": [],
   "source": [
    "df2 = df.drop('State', axis=1)"
   ]
  },
  {
   "cell_type": "code",
   "execution_count": 83,
   "metadata": {
    "collapsed": true
   },
   "outputs": [],
   "source": [
    "df2['Voice mail plan']= df2['Voice mail plan'].map({'Yes':1, 'No':0}, 16)"
   ]
  },
  {
   "cell_type": "code",
   "execution_count": 82,
   "metadata": {
    "collapsed": true
   },
   "outputs": [],
   "source": [
    "df2['International plan']= df2['International plan'].map({'Yes':1, 'No':0}, 16)"
   ]
  },
  {
   "cell_type": "code",
   "execution_count": 84,
   "metadata": {},
   "outputs": [
    {
     "data": {
      "text/html": [
       "<div>\n",
       "<style>\n",
       "    .dataframe thead tr:only-child th {\n",
       "        text-align: right;\n",
       "    }\n",
       "\n",
       "    .dataframe thead th {\n",
       "        text-align: left;\n",
       "    }\n",
       "\n",
       "    .dataframe tbody tr th {\n",
       "        vertical-align: top;\n",
       "    }\n",
       "</style>\n",
       "<table border=\"1\" class=\"dataframe\">\n",
       "  <thead>\n",
       "    <tr style=\"text-align: right;\">\n",
       "      <th></th>\n",
       "      <th>Account length</th>\n",
       "      <th>Area code</th>\n",
       "      <th>International plan</th>\n",
       "      <th>Voice mail plan</th>\n",
       "      <th>Number vmail messages</th>\n",
       "      <th>Total day minutes</th>\n",
       "      <th>Total day calls</th>\n",
       "      <th>Total eve minutes</th>\n",
       "      <th>Total eve calls</th>\n",
       "      <th>Total night minutes</th>\n",
       "      <th>Total night calls</th>\n",
       "      <th>Total intl minutes</th>\n",
       "      <th>Total intl calls</th>\n",
       "      <th>Customer service calls</th>\n",
       "      <th>Churn</th>\n",
       "    </tr>\n",
       "  </thead>\n",
       "  <tbody>\n",
       "    <tr>\n",
       "      <th>0</th>\n",
       "      <td>128</td>\n",
       "      <td>415</td>\n",
       "      <td>0</td>\n",
       "      <td>1</td>\n",
       "      <td>25</td>\n",
       "      <td>265.1</td>\n",
       "      <td>110</td>\n",
       "      <td>197.4</td>\n",
       "      <td>99</td>\n",
       "      <td>244.7</td>\n",
       "      <td>91</td>\n",
       "      <td>10.0</td>\n",
       "      <td>3</td>\n",
       "      <td>1</td>\n",
       "      <td>False</td>\n",
       "    </tr>\n",
       "    <tr>\n",
       "      <th>1</th>\n",
       "      <td>107</td>\n",
       "      <td>415</td>\n",
       "      <td>0</td>\n",
       "      <td>1</td>\n",
       "      <td>26</td>\n",
       "      <td>161.6</td>\n",
       "      <td>123</td>\n",
       "      <td>195.5</td>\n",
       "      <td>103</td>\n",
       "      <td>254.4</td>\n",
       "      <td>103</td>\n",
       "      <td>13.7</td>\n",
       "      <td>3</td>\n",
       "      <td>1</td>\n",
       "      <td>False</td>\n",
       "    </tr>\n",
       "    <tr>\n",
       "      <th>2</th>\n",
       "      <td>137</td>\n",
       "      <td>415</td>\n",
       "      <td>0</td>\n",
       "      <td>0</td>\n",
       "      <td>0</td>\n",
       "      <td>243.4</td>\n",
       "      <td>114</td>\n",
       "      <td>121.2</td>\n",
       "      <td>110</td>\n",
       "      <td>162.6</td>\n",
       "      <td>104</td>\n",
       "      <td>12.2</td>\n",
       "      <td>5</td>\n",
       "      <td>0</td>\n",
       "      <td>False</td>\n",
       "    </tr>\n",
       "    <tr>\n",
       "      <th>3</th>\n",
       "      <td>84</td>\n",
       "      <td>408</td>\n",
       "      <td>1</td>\n",
       "      <td>0</td>\n",
       "      <td>0</td>\n",
       "      <td>299.4</td>\n",
       "      <td>71</td>\n",
       "      <td>61.9</td>\n",
       "      <td>88</td>\n",
       "      <td>196.9</td>\n",
       "      <td>89</td>\n",
       "      <td>6.6</td>\n",
       "      <td>7</td>\n",
       "      <td>2</td>\n",
       "      <td>False</td>\n",
       "    </tr>\n",
       "    <tr>\n",
       "      <th>4</th>\n",
       "      <td>75</td>\n",
       "      <td>415</td>\n",
       "      <td>1</td>\n",
       "      <td>0</td>\n",
       "      <td>0</td>\n",
       "      <td>166.7</td>\n",
       "      <td>113</td>\n",
       "      <td>148.3</td>\n",
       "      <td>122</td>\n",
       "      <td>186.9</td>\n",
       "      <td>121</td>\n",
       "      <td>10.1</td>\n",
       "      <td>3</td>\n",
       "      <td>3</td>\n",
       "      <td>False</td>\n",
       "    </tr>\n",
       "  </tbody>\n",
       "</table>\n",
       "</div>"
      ],
      "text/plain": [
       "   Account length  Area code  International plan  Voice mail plan  \\\n",
       "0             128        415                   0                1   \n",
       "1             107        415                   0                1   \n",
       "2             137        415                   0                0   \n",
       "3              84        408                   1                0   \n",
       "4              75        415                   1                0   \n",
       "\n",
       "   Number vmail messages  Total day minutes  Total day calls  \\\n",
       "0                     25              265.1              110   \n",
       "1                     26              161.6              123   \n",
       "2                      0              243.4              114   \n",
       "3                      0              299.4               71   \n",
       "4                      0              166.7              113   \n",
       "\n",
       "   Total eve minutes  Total eve calls  Total night minutes  Total night calls  \\\n",
       "0              197.4               99                244.7                 91   \n",
       "1              195.5              103                254.4                103   \n",
       "2              121.2              110                162.6                104   \n",
       "3               61.9               88                196.9                 89   \n",
       "4              148.3              122                186.9                121   \n",
       "\n",
       "   Total intl minutes  Total intl calls  Customer service calls  Churn  \n",
       "0                10.0                 3                       1  False  \n",
       "1                13.7                 3                       1  False  \n",
       "2                12.2                 5                       0  False  \n",
       "3                 6.6                 7                       2  False  \n",
       "4                10.1                 3                       3  False  "
      ]
     },
     "execution_count": 84,
     "metadata": {},
     "output_type": "execute_result"
    }
   ],
   "source": [
    "df2.head()"
   ]
  },
  {
   "cell_type": "code",
   "execution_count": 85,
   "metadata": {},
   "outputs": [
    {
     "name": "stdout",
     "output_type": "stream",
     "text": [
      "<class 'pandas.core.frame.DataFrame'>\n",
      "RangeIndex: 3333 entries, 0 to 3332\n",
      "Data columns (total 15 columns):\n",
      "Account length            3333 non-null int64\n",
      "Area code                 3333 non-null int64\n",
      "International plan        3333 non-null int64\n",
      "Voice mail plan           3333 non-null int64\n",
      "Number vmail messages     3333 non-null int64\n",
      "Total day minutes         3333 non-null float64\n",
      "Total day calls           3333 non-null int64\n",
      "Total eve minutes         3333 non-null float64\n",
      "Total eve calls           3333 non-null int64\n",
      "Total night minutes       3333 non-null float64\n",
      "Total night calls         3333 non-null int64\n",
      "Total intl minutes        3333 non-null float64\n",
      "Total intl calls          3333 non-null int64\n",
      "Customer service calls    3333 non-null int64\n",
      "Churn                     3333 non-null bool\n",
      "dtypes: bool(1), float64(4), int64(10)\n",
      "memory usage: 367.9 KB\n"
     ]
    }
   ],
   "source": [
    "df2.info()"
   ]
  },
  {
   "cell_type": "code",
   "execution_count": 76,
   "metadata": {
    "collapsed": true
   },
   "outputs": [],
   "source": [
    "from sklearn.manifold import TSNE"
   ]
  },
  {
   "cell_type": "code",
   "execution_count": 77,
   "metadata": {
    "collapsed": true
   },
   "outputs": [],
   "source": [
    "TSNE?"
   ]
  },
  {
   "cell_type": "code",
   "execution_count": 78,
   "metadata": {
    "collapsed": true
   },
   "outputs": [],
   "source": [
    "tsne = TSNE(random_state=0) # инициация"
   ]
  },
  {
   "cell_type": "code",
   "execution_count": 86,
   "metadata": {},
   "outputs": [
    {
     "name": "stdout",
     "output_type": "stream",
     "text": [
      "Wall time: 2min 4s\n"
     ]
    },
    {
     "data": {
      "text/plain": [
       "TSNE(angle=0.5, early_exaggeration=4.0, init='random', learning_rate=1000.0,\n",
       "   method='barnes_hut', metric='euclidean', min_grad_norm=1e-07,\n",
       "   n_components=2, n_iter=1000, n_iter_without_progress=30,\n",
       "   perplexity=30.0, random_state=0, verbose=0)"
      ]
     },
     "execution_count": 86,
     "metadata": {},
     "output_type": "execute_result"
    }
   ],
   "source": [
    "%%time\n",
    "tsne.fit(df2)"
   ]
  },
  {
   "cell_type": "code",
   "execution_count": 88,
   "metadata": {},
   "outputs": [
    {
     "data": {
      "text/plain": [
       "(3333, 2)"
      ]
     },
     "execution_count": 88,
     "metadata": {},
     "output_type": "execute_result"
    }
   ],
   "source": [
    "tsne.embedding_.shape"
   ]
  },
  {
   "cell_type": "code",
   "execution_count": 89,
   "metadata": {},
   "outputs": [
    {
     "data": {
      "text/plain": [
       "<matplotlib.collections.PathCollection at 0x1d412af7438>"
      ]
     },
     "execution_count": 89,
     "metadata": {},
     "output_type": "execute_result"
    },
    {
     "data": {
      "image/png": "[encoded data removed]",
      "text/plain": [
       "<matplotlib.figure.Figure at 0x1d412dd4748>"
      ]
     },
     "metadata": {},
     "output_type": "display_data"
    }
   ],
   "source": [
    "plt.scatter(tsne.embedding_[:,0], tsne.embedding_[:,1])"
   ]
  },
  {
   "cell_type": "code",
   "execution_count": null,
   "metadata": {
    "collapsed": true
   },
   "outputs": [],
   "source": [
    "Попробуем раскрасить"
   ]
  },
  {
   "cell_type": "code",
   "execution_count": 90,
   "metadata": {},
   "outputs": [
    {
     "data": {
      "text/plain": [
       "array([False, False, False, ..., False, False, False], dtype=bool)"
      ]
     },
     "execution_count": 90,
     "metadata": {},
     "output_type": "execute_result"
    }
   ],
   "source": [
    "df2['Churn'].values"
   ]
  },
  {
   "cell_type": "code",
   "execution_count": 92,
   "metadata": {},
   "outputs": [
    {
     "data": {
      "text/plain": [
       "(483,)"
      ]
     },
     "execution_count": 92,
     "metadata": {},
     "output_type": "execute_result"
    }
   ],
   "source": [
    "tsne.embedding_[df2['Churn'].values,0].shape"
   ]
  },
  {
   "cell_type": "code",
   "execution_count": 97,
   "metadata": {},
   "outputs": [
    {
     "data": {
      "image/png": "[encoded data removed]",
      "text/plain": [
       "<matplotlib.figure.Figure at 0x1d4145c55f8>"
      ]
     },
     "metadata": {},
     "output_type": "display_data"
    }
   ],
   "source": [
    "plt.scatter(tsne.embedding_[df2['Churn'].values,0], \n",
    "            tsne.embedding_[df2['Churn'].values,1], color='orange');\n",
    "plt.scatter(tsne.embedding_[~df2['Churn'].values,0], \n",
    "            tsne.embedding_[~df2['Churn'].values,1], color='blue');"
   ]
  },
  {
   "cell_type": "markdown",
   "metadata": {},
   "source": [
    "### Немного реальных данных"
   ]
  },
  {
   "cell_type": "code",
   "execution_count": 185,
   "metadata": {
    "collapsed": true
   },
   "outputs": [],
   "source": [
    "poll_data = pd.read_csv('C:/DataScience/mlcourse_open-master/data/mlcourse_open_first_survey_parsed.csv')"
   ]
  },
  {
   "cell_type": "code",
   "execution_count": 186,
   "metadata": {},
   "outputs": [
    {
     "data": {
      "text/html": [
       "<div>\n",
       "<style>\n",
       "    .dataframe thead tr:only-child th {\n",
       "        text-align: right;\n",
       "    }\n",
       "\n",
       "    .dataframe thead th {\n",
       "        text-align: left;\n",
       "    }\n",
       "\n",
       "    .dataframe tbody tr th {\n",
       "        vertical-align: top;\n",
       "    }\n",
       "</style>\n",
       "<table border=\"1\" class=\"dataframe\">\n",
       "  <thead>\n",
       "    <tr style=\"text-align: right;\">\n",
       "      <th></th>\n",
       "      <th>id</th>\n",
       "      <th>Timestamp</th>\n",
       "      <th>Представьтесь в 2-3 фразах</th>\n",
       "      <th>Работали ли Вы с Jupyter notebooks?</th>\n",
       "      <th>Что Вы ждете от курса?</th>\n",
       "      <th>Потом мы прямо этот же набор данных поанализируем с Pandas. Так что какой Ваш любимый вид спорта?</th>\n",
       "      <th>Ладно, посерьезней: согласны ли Вы на обработку персональных данных?</th>\n",
       "      <th>Какие оцениваете свой уровень математической подготовки? (матан, линал, теорвер)</th>\n",
       "      <th>Чему равна дисперсия равномерного на [0,6] распределения?</th>\n",
       "      <th>Найдите минимум функции 3x^4-8x^3+6x^2-12 на отрезке [-3,3]</th>\n",
       "      <th>Сколько параметров у нормального распределения?</th>\n",
       "      <th>Сможете написать на Python генератор чисел Фибоначчи?</th>\n",
       "      <th>Хорошо, а готовы к началу курса (6 сентября 2017) освоить азы Python? На уровне Code Academy, DataCamp или github.com/Yorko/python_intro</th>\n",
       "      <th>Оцените свой уровень владения GitHub</th>\n",
       "      <th>Посоветуйте хороший фильм в стиле \"Игра в имитацию\" :)</th>\n",
       "    </tr>\n",
       "  </thead>\n",
       "  <tbody>\n",
       "    <tr>\n",
       "      <th>0</th>\n",
       "      <td>0</td>\n",
       "      <td>2016/12/05 10:39:59 am GMT+3</td>\n",
       "      <td>крутой Developer</td>\n",
       "      <td>Да</td>\n",
       "      <td>Ребята, вижу ваш настрой, уверен курс будет ин...</td>\n",
       "      <td>Starcraft</td>\n",
       "      <td>Да</td>\n",
       "      <td>4</td>\n",
       "      <td>3</td>\n",
       "      <td>-12</td>\n",
       "      <td>2.0</td>\n",
       "      <td>Да</td>\n",
       "      <td>Да</td>\n",
       "      <td>Проф</td>\n",
       "      <td>Прочитай книгу Лема \"Голос Неба\", очень много ...</td>\n",
       "    </tr>\n",
       "    <tr>\n",
       "      <th>1</th>\n",
       "      <td>1</td>\n",
       "      <td>2016/12/05 10:44:27 am GMT+3</td>\n",
       "      <td>Разработчик Navision. Изучаю тему DS для возмо...</td>\n",
       "      <td>Да</td>\n",
       "      <td>Практики, подкрепленной теорией. Хочется упоря...</td>\n",
       "      <td>NaN</td>\n",
       "      <td>Да</td>\n",
       "      <td>1</td>\n",
       "      <td>3</td>\n",
       "      <td>NaN</td>\n",
       "      <td>2.0</td>\n",
       "      <td>Да, но фиговый.</td>\n",
       "      <td>Да</td>\n",
       "      <td>Могу скачать материалы</td>\n",
       "      <td>NaN</td>\n",
       "    </tr>\n",
       "    <tr>\n",
       "      <th>2</th>\n",
       "      <td>2</td>\n",
       "      <td>2016/12/05 10:47:07 am GMT+3</td>\n",
       "      <td>Я Software Engeneer разработчик, активно интер...</td>\n",
       "      <td>Да</td>\n",
       "      <td>Побольше практики на реальных данных (задачах).</td>\n",
       "      <td>basketball</td>\n",
       "      <td>Да</td>\n",
       "      <td>3</td>\n",
       "      <td>3</td>\n",
       "      <td>NaN</td>\n",
       "      <td>2.0</td>\n",
       "      <td>Да</td>\n",
       "      <td>Да</td>\n",
       "      <td>Проф</td>\n",
       "      <td>NaN</td>\n",
       "    </tr>\n",
       "    <tr>\n",
       "      <th>3</th>\n",
       "      <td>3</td>\n",
       "      <td>2016/12/05 10:47:22 am GMT+3</td>\n",
       "      <td>Семилетний инженер. Специализируюсь в компьюте...</td>\n",
       "      <td>Да</td>\n",
       "      <td>Глубокого разбора алгоритмов и инструментов.</td>\n",
       "      <td>NaN</td>\n",
       "      <td>Да</td>\n",
       "      <td>3</td>\n",
       "      <td>0.5</td>\n",
       "      <td>-12</td>\n",
       "      <td>2.0</td>\n",
       "      <td>Да</td>\n",
       "      <td>Да</td>\n",
       "      <td>Пользуюсь ветками, могу что-то смерджить</td>\n",
       "      <td>Король говорит</td>\n",
       "    </tr>\n",
       "    <tr>\n",
       "      <th>4</th>\n",
       "      <td>5</td>\n",
       "      <td>2016/12/05 10:58:34 am GMT+3</td>\n",
       "      <td>программист. pl/sql python</td>\n",
       "      <td>Да</td>\n",
       "      <td>Упорядочить знания</td>\n",
       "      <td>футбол</td>\n",
       "      <td>Да</td>\n",
       "      <td>3</td>\n",
       "      <td>3</td>\n",
       "      <td>-12</td>\n",
       "      <td>2.0</td>\n",
       "      <td>Да</td>\n",
       "      <td>уже знаю</td>\n",
       "      <td>Пользуюсь ветками, могу что-то смерджить</td>\n",
       "      <td>NaN</td>\n",
       "    </tr>\n",
       "  </tbody>\n",
       "</table>\n",
       "</div>"
      ],
      "text/plain": [
       "   id                     Timestamp  \\\n",
       "0   0  2016/12/05 10:39:59 am GMT+3   \n",
       "1   1  2016/12/05 10:44:27 am GMT+3   \n",
       "2   2  2016/12/05 10:47:07 am GMT+3   \n",
       "3   3  2016/12/05 10:47:22 am GMT+3   \n",
       "4   5  2016/12/05 10:58:34 am GMT+3   \n",
       "\n",
       "                          Представьтесь в 2-3 фразах  \\\n",
       "0                                   крутой Developer   \n",
       "1  Разработчик Navision. Изучаю тему DS для возмо...   \n",
       "2  Я Software Engeneer разработчик, активно интер...   \n",
       "3  Семилетний инженер. Специализируюсь в компьюте...   \n",
       "4                         программист. pl/sql python   \n",
       "\n",
       "  Работали ли Вы с Jupyter notebooks?  \\\n",
       "0                                  Да   \n",
       "1                                  Да   \n",
       "2                                  Да   \n",
       "3                                  Да   \n",
       "4                                  Да   \n",
       "\n",
       "                              Что Вы ждете от курса?  \\\n",
       "0  Ребята, вижу ваш настрой, уверен курс будет ин...   \n",
       "1  Практики, подкрепленной теорией. Хочется упоря...   \n",
       "2    Побольше практики на реальных данных (задачах).   \n",
       "3       Глубокого разбора алгоритмов и инструментов.   \n",
       "4                                 Упорядочить знания   \n",
       "\n",
       "  Потом мы прямо этот же набор данных поанализируем с Pandas. Так что какой Ваш любимый вид спорта?  \\\n",
       "0                                          Starcraft                                                  \n",
       "1                                                NaN                                                  \n",
       "2                                         basketball                                                  \n",
       "3                                                NaN                                                  \n",
       "4                                             футбол                                                  \n",
       "\n",
       "  Ладно, посерьезней: согласны ли Вы на обработку персональных данных?  \\\n",
       "0                                                 Да                     \n",
       "1                                                 Да                     \n",
       "2                                                 Да                     \n",
       "3                                                 Да                     \n",
       "4                                                 Да                     \n",
       "\n",
       "   Какие оцениваете свой уровень математической подготовки? (матан, линал, теорвер)  \\\n",
       "0                                                  4                                  \n",
       "1                                                  1                                  \n",
       "2                                                  3                                  \n",
       "3                                                  3                                  \n",
       "4                                                  3                                  \n",
       "\n",
       "  Чему равна дисперсия равномерного на [0,6] распределения?  \\\n",
       "0                                                  3          \n",
       "1                                                  3          \n",
       "2                                                  3          \n",
       "3                                                0.5          \n",
       "4                                                  3          \n",
       "\n",
       "  Найдите минимум функции 3x^4-8x^3+6x^2-12 на отрезке [-3,3]  \\\n",
       "0                                                -12            \n",
       "1                                                NaN            \n",
       "2                                                NaN            \n",
       "3                                                -12            \n",
       "4                                                -12            \n",
       "\n",
       "   Сколько параметров у нормального распределения?  \\\n",
       "0                                              2.0   \n",
       "1                                              2.0   \n",
       "2                                              2.0   \n",
       "3                                              2.0   \n",
       "4                                              2.0   \n",
       "\n",
       "  Сможете написать на Python генератор чисел Фибоначчи?  \\\n",
       "0                                                 Да      \n",
       "1                                    Да, но фиговый.      \n",
       "2                                                 Да      \n",
       "3                                                 Да      \n",
       "4                                                 Да      \n",
       "\n",
       "  Хорошо, а готовы к началу курса (6 сентября 2017) освоить азы Python? На уровне Code Academy, DataCamp или github.com/Yorko/python_intro  \\\n",
       "0                                                 Да                                                                                         \n",
       "1                                                 Да                                                                                         \n",
       "2                                                 Да                                                                                         \n",
       "3                                                 Да                                                                                         \n",
       "4                                           уже знаю                                                                                         \n",
       "\n",
       "       Оцените свой уровень владения GitHub  \\\n",
       "0                                      Проф   \n",
       "1                    Могу скачать материалы   \n",
       "2                                      Проф   \n",
       "3  Пользуюсь ветками, могу что-то смерджить   \n",
       "4  Пользуюсь ветками, могу что-то смерджить   \n",
       "\n",
       "  Посоветуйте хороший фильм в стиле \"Игра в имитацию\" :)  \n",
       "0  Прочитай книгу Лема \"Голос Неба\", очень много ...      \n",
       "1                                                NaN      \n",
       "2                                                NaN      \n",
       "3                                     Король говорит      \n",
       "4                                                NaN      "
      ]
     },
     "execution_count": 186,
     "metadata": {},
     "output_type": "execute_result"
    }
   ],
   "source": [
    "poll_data.head()"
   ]
  },
  {
   "cell_type": "code",
   "execution_count": 187,
   "metadata": {},
   "outputs": [
    {
     "data": {
      "text/plain": [
       "Index(['id', 'Timestamp', 'Представьтесь в 2-3 фразах',\n",
       "       'Работали ли Вы с Jupyter notebooks?', 'Что Вы ждете от курса?',\n",
       "       'Потом мы прямо этот же набор данных поанализируем с Pandas. Так что какой Ваш любимый вид спорта?',\n",
       "       'Ладно, посерьезней: согласны ли Вы на обработку персональных данных?',\n",
       "       'Какие оцениваете свой уровень математической подготовки? (матан, линал, теорвер)',\n",
       "       'Чему равна дисперсия равномерного на [0,6] распределения?',\n",
       "       'Найдите минимум функции 3x^4-8x^3+6x^2-12 на отрезке [-3,3]',\n",
       "       'Сколько параметров у нормального распределения?',\n",
       "       'Сможете написать на Python генератор чисел Фибоначчи?',\n",
       "       'Хорошо, а готовы к началу курса (6 сентября 2017) освоить азы Python? На уровне Code Academy, DataCamp или github.com/Yorko/python_intro',\n",
       "       'Оцените свой уровень владения GitHub',\n",
       "       'Посоветуйте хороший фильм в стиле \"Игра в имитацию\" :)'],\n",
       "      dtype='object')"
      ]
     },
     "execution_count": 187,
     "metadata": {},
     "output_type": "execute_result"
    }
   ],
   "source": [
    "poll_data.columns"
   ]
  },
  {
   "cell_type": "code",
   "execution_count": 188,
   "metadata": {
    "collapsed": true
   },
   "outputs": [],
   "source": [
    "rename_dic = dict(zip(poll_data.columns, \n",
    "                      ['id', 'time', 'intro', 'jupyter', 'expect',\n",
    "                       'sport', 'personal', 'math_level', 'quest1',\n",
    "                       'quest2', 'quest3', 'fib_gen', 'python', \n",
    "                       'github', 'movie']))"
   ]
  },
  {
   "cell_type": "code",
   "execution_count": 189,
   "metadata": {
    "collapsed": true
   },
   "outputs": [],
   "source": [
    "poll_data.rename(columns = rename_dic, inplace=True)"
   ]
  },
  {
   "cell_type": "code",
   "execution_count": 190,
   "metadata": {},
   "outputs": [
    {
     "data": {
      "text/html": [
       "<div>\n",
       "<style>\n",
       "    .dataframe thead tr:only-child th {\n",
       "        text-align: right;\n",
       "    }\n",
       "\n",
       "    .dataframe thead th {\n",
       "        text-align: left;\n",
       "    }\n",
       "\n",
       "    .dataframe tbody tr th {\n",
       "        vertical-align: top;\n",
       "    }\n",
       "</style>\n",
       "<table border=\"1\" class=\"dataframe\">\n",
       "  <thead>\n",
       "    <tr style=\"text-align: right;\">\n",
       "      <th></th>\n",
       "      <th>id</th>\n",
       "      <th>time</th>\n",
       "      <th>intro</th>\n",
       "      <th>jupyter</th>\n",
       "      <th>expect</th>\n",
       "      <th>sport</th>\n",
       "      <th>personal</th>\n",
       "      <th>math_level</th>\n",
       "      <th>quest1</th>\n",
       "      <th>quest2</th>\n",
       "      <th>quest3</th>\n",
       "      <th>fib_gen</th>\n",
       "      <th>python</th>\n",
       "      <th>github</th>\n",
       "      <th>movie</th>\n",
       "    </tr>\n",
       "  </thead>\n",
       "  <tbody>\n",
       "    <tr>\n",
       "      <th>0</th>\n",
       "      <td>0</td>\n",
       "      <td>2016/12/05 10:39:59 am GMT+3</td>\n",
       "      <td>крутой Developer</td>\n",
       "      <td>Да</td>\n",
       "      <td>Ребята, вижу ваш настрой, уверен курс будет ин...</td>\n",
       "      <td>Starcraft</td>\n",
       "      <td>Да</td>\n",
       "      <td>4</td>\n",
       "      <td>3</td>\n",
       "      <td>-12</td>\n",
       "      <td>2.0</td>\n",
       "      <td>Да</td>\n",
       "      <td>Да</td>\n",
       "      <td>Проф</td>\n",
       "      <td>Прочитай книгу Лема \"Голос Неба\", очень много ...</td>\n",
       "    </tr>\n",
       "    <tr>\n",
       "      <th>1</th>\n",
       "      <td>1</td>\n",
       "      <td>2016/12/05 10:44:27 am GMT+3</td>\n",
       "      <td>Разработчик Navision. Изучаю тему DS для возмо...</td>\n",
       "      <td>Да</td>\n",
       "      <td>Практики, подкрепленной теорией. Хочется упоря...</td>\n",
       "      <td>NaN</td>\n",
       "      <td>Да</td>\n",
       "      <td>1</td>\n",
       "      <td>3</td>\n",
       "      <td>NaN</td>\n",
       "      <td>2.0</td>\n",
       "      <td>Да, но фиговый.</td>\n",
       "      <td>Да</td>\n",
       "      <td>Могу скачать материалы</td>\n",
       "      <td>NaN</td>\n",
       "    </tr>\n",
       "    <tr>\n",
       "      <th>2</th>\n",
       "      <td>2</td>\n",
       "      <td>2016/12/05 10:47:07 am GMT+3</td>\n",
       "      <td>Я Software Engeneer разработчик, активно интер...</td>\n",
       "      <td>Да</td>\n",
       "      <td>Побольше практики на реальных данных (задачах).</td>\n",
       "      <td>basketball</td>\n",
       "      <td>Да</td>\n",
       "      <td>3</td>\n",
       "      <td>3</td>\n",
       "      <td>NaN</td>\n",
       "      <td>2.0</td>\n",
       "      <td>Да</td>\n",
       "      <td>Да</td>\n",
       "      <td>Проф</td>\n",
       "      <td>NaN</td>\n",
       "    </tr>\n",
       "    <tr>\n",
       "      <th>3</th>\n",
       "      <td>3</td>\n",
       "      <td>2016/12/05 10:47:22 am GMT+3</td>\n",
       "      <td>Семилетний инженер. Специализируюсь в компьюте...</td>\n",
       "      <td>Да</td>\n",
       "      <td>Глубокого разбора алгоритмов и инструментов.</td>\n",
       "      <td>NaN</td>\n",
       "      <td>Да</td>\n",
       "      <td>3</td>\n",
       "      <td>0.5</td>\n",
       "      <td>-12</td>\n",
       "      <td>2.0</td>\n",
       "      <td>Да</td>\n",
       "      <td>Да</td>\n",
       "      <td>Пользуюсь ветками, могу что-то смерджить</td>\n",
       "      <td>Король говорит</td>\n",
       "    </tr>\n",
       "    <tr>\n",
       "      <th>4</th>\n",
       "      <td>5</td>\n",
       "      <td>2016/12/05 10:58:34 am GMT+3</td>\n",
       "      <td>программист. pl/sql python</td>\n",
       "      <td>Да</td>\n",
       "      <td>Упорядочить знания</td>\n",
       "      <td>футбол</td>\n",
       "      <td>Да</td>\n",
       "      <td>3</td>\n",
       "      <td>3</td>\n",
       "      <td>-12</td>\n",
       "      <td>2.0</td>\n",
       "      <td>Да</td>\n",
       "      <td>уже знаю</td>\n",
       "      <td>Пользуюсь ветками, могу что-то смерджить</td>\n",
       "      <td>NaN</td>\n",
       "    </tr>\n",
       "  </tbody>\n",
       "</table>\n",
       "</div>"
      ],
      "text/plain": [
       "   id                          time  \\\n",
       "0   0  2016/12/05 10:39:59 am GMT+3   \n",
       "1   1  2016/12/05 10:44:27 am GMT+3   \n",
       "2   2  2016/12/05 10:47:07 am GMT+3   \n",
       "3   3  2016/12/05 10:47:22 am GMT+3   \n",
       "4   5  2016/12/05 10:58:34 am GMT+3   \n",
       "\n",
       "                                               intro jupyter  \\\n",
       "0                                   крутой Developer      Да   \n",
       "1  Разработчик Navision. Изучаю тему DS для возмо...      Да   \n",
       "2  Я Software Engeneer разработчик, активно интер...      Да   \n",
       "3  Семилетний инженер. Специализируюсь в компьюте...      Да   \n",
       "4                         программист. pl/sql python      Да   \n",
       "\n",
       "                                              expect       sport personal  \\\n",
       "0  Ребята, вижу ваш настрой, уверен курс будет ин...   Starcraft       Да   \n",
       "1  Практики, подкрепленной теорией. Хочется упоря...         NaN       Да   \n",
       "2    Побольше практики на реальных данных (задачах).  basketball       Да   \n",
       "3       Глубокого разбора алгоритмов и инструментов.         NaN       Да   \n",
       "4                                 Упорядочить знания      футбол       Да   \n",
       "\n",
       "   math_level quest1 quest2  quest3          fib_gen    python  \\\n",
       "0           4      3    -12     2.0               Да        Да   \n",
       "1           1      3    NaN     2.0  Да, но фиговый.        Да   \n",
       "2           3      3    NaN     2.0               Да        Да   \n",
       "3           3    0.5    -12     2.0               Да        Да   \n",
       "4           3      3    -12     2.0               Да  уже знаю   \n",
       "\n",
       "                                     github  \\\n",
       "0                                      Проф   \n",
       "1                    Могу скачать материалы   \n",
       "2                                      Проф   \n",
       "3  Пользуюсь ветками, могу что-то смерджить   \n",
       "4  Пользуюсь ветками, могу что-то смерджить   \n",
       "\n",
       "                                               movie  \n",
       "0  Прочитай книгу Лема \"Голос Неба\", очень много ...  \n",
       "1                                                NaN  \n",
       "2                                                NaN  \n",
       "3                                     Король говорит  \n",
       "4                                                NaN  "
      ]
     },
     "execution_count": 190,
     "metadata": {},
     "output_type": "execute_result"
    }
   ],
   "source": [
    "poll_data.head()"
   ]
  },
  {
   "cell_type": "code",
   "execution_count": 191,
   "metadata": {},
   "outputs": [
    {
     "data": {
      "text/plain": [
       "Да             2071\n",
       "Нет             766\n",
       "немного           7\n",
       "Немного           3\n",
       "Да, но мало       2\n",
       "Name: jupyter, dtype: int64"
      ]
     },
     "execution_count": 191,
     "metadata": {},
     "output_type": "execute_result"
    }
   ],
   "source": [
    "poll_data['jupyter'].value_counts().head()"
   ]
  },
  {
   "cell_type": "code",
   "execution_count": 192,
   "metadata": {},
   "outputs": [
    {
     "data": {
      "text/plain": [
       "array([  1.,  nan,   0.])"
      ]
     },
     "execution_count": 192,
     "metadata": {},
     "output_type": "execute_result"
    }
   ],
   "source": [
    "poll_data['jupyter'].map({'Да':1, 'Нет':0}).unique()"
   ]
  },
  {
   "cell_type": "code",
   "execution_count": 193,
   "metadata": {
    "collapsed": true
   },
   "outputs": [],
   "source": [
    "jupiter_levels = poll_data['jupyter'].map({'Да':1, 'Нет':0}).fillna(2)"
   ]
  },
  {
   "cell_type": "code",
   "execution_count": 194,
   "metadata": {},
   "outputs": [
    {
     "data": {
      "text/plain": [
       "1.0    2071\n",
       "0.0     766\n",
       "2.0     107\n",
       "Name: jupyter, dtype: int64"
      ]
     },
     "execution_count": 194,
     "metadata": {},
     "output_type": "execute_result"
    }
   ],
   "source": [
    "jupiter_levels.value_counts()"
   ]
  },
  {
   "cell_type": "code",
   "execution_count": 195,
   "metadata": {},
   "outputs": [
    {
     "data": {
      "image/png": "[encoded data removed]",
      "text/plain": [
       "<matplotlib.figure.Figure at 0x1d41291f0b8>"
      ]
     },
     "metadata": {},
     "output_type": "display_data"
    }
   ],
   "source": [
    "sns.countplot(jupiter_levels);"
   ]
  },
  {
   "cell_type": "code",
   "execution_count": 196,
   "metadata": {},
   "outputs": [
    {
     "data": {
      "text/plain": [
       "Футбол       197\n",
       "Баскетбол    113\n",
       "футбол       113\n",
       "Плавание      94\n",
       "Хоккей        66\n",
       "Name: sport, dtype: int64"
      ]
     },
     "execution_count": 196,
     "metadata": {},
     "output_type": "execute_result"
    }
   ],
   "source": [
    "poll_data['sport'].value_counts().head()"
   ]
  },
  {
   "cell_type": "code",
   "execution_count": 197,
   "metadata": {},
   "outputs": [
    {
     "data": {
      "text/plain": [
       "array([  2.,  nan,   1.,   4.,   3.])"
      ]
     },
     "execution_count": 197,
     "metadata": {},
     "output_type": "execute_result"
    }
   ],
   "source": [
    "poll_data['quest3'].unique()"
   ]
  },
  {
   "cell_type": "code",
   "execution_count": 198,
   "metadata": {},
   "outputs": [
    {
     "data": {
      "text/plain": [
       "0.92440366972477062"
      ]
     },
     "execution_count": 198,
     "metadata": {},
     "output_type": "execute_result"
    }
   ],
   "source": [
    "(poll_data['quest3'] ==2).dropna().sum() / \\\n",
    "poll_data['quest3'][~poll_data['quest3'].isnull()].shape[0]"
   ]
  },
  {
   "cell_type": "code",
   "execution_count": 201,
   "metadata": {},
   "outputs": [
    {
     "data": {
      "text/plain": [
       "0                                     крутой Developer\n",
       "1    Разработчик Navision. Изучаю тему DS для возмо...\n",
       "2    Я Software Engeneer разработчик, активно интер...\n",
       "3    Семилетний инженер. Специализируюсь в компьюте...\n",
       "4                           программист. pl/sql python\n",
       "Name: intro, dtype: object"
      ]
     },
     "execution_count": 201,
     "metadata": {},
     "output_type": "execute_result"
    }
   ],
   "source": [
    "poll_data['intro'].head()"
   ]
  },
  {
   "cell_type": "markdown",
   "metadata": {},
   "source": [
    "Создание мешка слов"
   ]
  },
  {
   "cell_type": "code",
   "execution_count": 203,
   "metadata": {},
   "outputs": [
    {
     "data": {
      "text/plain": [
       "2939        [Занимаюсь, анализом, данных, в, страховании]\n",
       "2940                    [Аналитик, в, телеком, компании.]\n",
       "2941    [Занимаюсь, сопровождением, автоматизированных...\n",
       "2942                           [разработчик, Python,, JS]\n",
       "2943    [Работал, аналитиком, в, разных, сферах,, вклю...\n",
       "Name: intro, dtype: object"
      ]
     },
     "execution_count": 203,
     "metadata": {},
     "output_type": "execute_result"
    }
   ],
   "source": [
    "poll_data['intro'].apply(lambda s: s.strip().split()).tail()"
   ]
  },
  {
   "cell_type": "code",
   "execution_count": 204,
   "metadata": {},
   "outputs": [
    {
     "data": {
      "text/plain": [
       "array([['крутой', 'Developer'],\n",
       "       ['Разработчик', 'Navision.', 'Изучаю', 'тему', 'DS', 'для', 'возможной', 'переквалификации.'],\n",
       "       ['Я', 'Software', 'Engeneer', 'разработчик,', 'активно', 'интересующийся', 'областью', 'машинного', 'обучения.', 'Имею', 'реальный', 'опыт', 'в', 'DL', '(неcколько', 'задача', 'связанных', 'с', 'разпознавание', 'объектов', 'и', 'классификацией', 'изображений).'],\n",
       "       ...,\n",
       "       ['Занимаюсь', 'сопровождением', 'автоматизированных', 'систем,', 'в', 'т.ч.', 'тех,', 'в', 'которых', 'очень', 'много', 'данных', 'в', 'БД', 'хранится.', 'Люблю', '\"покопаться\"', 'в', 'данных.', 'Изучаю', 'питон', 'с', '2017', 'года'],\n",
       "       ['разработчик', 'Python,', 'JS'],\n",
       "       ['Работал', 'аналитиком', 'в', 'разных', 'сферах,', 'включая', 'e-commerce,', 'телеком', 'и', 'онлайн-банкинг.', 'Увлекаюсь', 'программированием']], dtype=object)"
      ]
     },
     "execution_count": 204,
     "metadata": {},
     "output_type": "execute_result"
    }
   ],
   "source": [
    "poll_data['intro'].apply(lambda s: s.strip().split()).values"
   ]
  },
  {
   "cell_type": "code",
   "execution_count": 207,
   "metadata": {
    "collapsed": true
   },
   "outputs": [],
   "source": [
    "b = np.array([['a','b'],['c','d']])"
   ]
  },
  {
   "cell_type": "code",
   "execution_count": 208,
   "metadata": {},
   "outputs": [
    {
     "data": {
      "text/plain": [
       "array(['a', 'b', 'c', 'd'], \n",
       "      dtype='<U1')"
      ]
     },
     "execution_count": 208,
     "metadata": {},
     "output_type": "execute_result"
    }
   ],
   "source": [
    "np.concatenate(b)"
   ]
  },
  {
   "cell_type": "code",
   "execution_count": 210,
   "metadata": {},
   "outputs": [
    {
     "data": {
      "text/plain": [
       "array(['крутой', 'Developer', 'Разработчик', ..., 'онлайн-банкинг.',\n",
       "       'Увлекаюсь', 'программированием'], \n",
       "      dtype='<U81')"
      ]
     },
     "execution_count": 210,
     "metadata": {},
     "output_type": "execute_result"
    }
   ],
   "source": [
    "np.concatenate(poll_data['intro'].apply(lambda s: s.strip().split()).values)"
   ]
  },
  {
   "cell_type": "code",
   "execution_count": 215,
   "metadata": {
    "collapsed": true
   },
   "outputs": [],
   "source": [
    "all_words = np.concatenate(poll_data['intro'].apply(lambda s: s.strip().split()).values)"
   ]
  },
  {
   "cell_type": "code",
   "execution_count": 216,
   "metadata": {},
   "outputs": [
    {
     "data": {
      "text/plain": [
       "26533"
      ]
     },
     "execution_count": 216,
     "metadata": {},
     "output_type": "execute_result"
    }
   ],
   "source": [
    "len(all_words)"
   ]
  },
  {
   "cell_type": "code",
   "execution_count": 214,
   "metadata": {},
   "outputs": [
    {
     "data": {
      "text/plain": [
       "{'тренировок',\n",
       " 'безопасности,',\n",
       " 'душа',\n",
       " 'Люблю',\n",
       " 'предлагать.',\n",
       " 'Институты.',\n",
       " 'сайнтист',\n",
       " 'deeplearning.ai',\n",
       " 'видео',\n",
       " 'visualising',\n",
       " 'универстите',\n",
       " 'природу',\n",
       " 'Давным',\n",
       " 'Бизнес-Информатики,',\n",
       " 'лучше',\n",
       " 'меланхоличный',\n",
       " 'вышки',\n",
       " 'на',\n",
       " 'мир.',\n",
       " 'сайентист.',\n",
       " 'Udacity.',\n",
       " '10+летним',\n",
       " 'возможно?ное',\n",
       " 'Победитель',\n",
       " 'Выпусник',\n",
       " 'телеком',\n",
       " 'склеить/сопоставить',\n",
       " 'то,',\n",
       " 'лаборатории',\n",
       " 'имея',\n",
       " 'Валиев',\n",
       " '\"Информатика',\n",
       " '2007',\n",
       " 'Технотрека.',\n",
       " 'много,',\n",
       " 'хочет',\n",
       " 'Как',\n",
       " 'Казахстан,',\n",
       " 'Каразина',\n",
       " 'макака,',\n",
       " 'биоинформатики.',\n",
       " 'Вышки+Воронцова),',\n",
       " 'Developer,',\n",
       " 'восхищаюсь',\n",
       " 'модифицировать',\n",
       " 'парень!',\n",
       " '(C++/',\n",
       " 'потому',\n",
       " 'yandex',\n",
       " 'Этим',\n",
       " 'Правительстве',\n",
       " 'классификация',\n",
       " 'которая',\n",
       " 'Юля',\n",
       " 'неопытный',\n",
       " 'приложений,',\n",
       " 'стартапе,',\n",
       " '\"Журналистики',\n",
       " 'Челябинска.',\n",
       " 'расследованиями,',\n",
       " 'году,',\n",
       " 'биотехнологии.',\n",
       " 'грусть-тоска',\n",
       " 'задание',\n",
       " 'Доцент',\n",
       " 'Когда',\n",
       " 'телефона',\n",
       " 'разработку,',\n",
       " 'таэквондо,',\n",
       " 'лекциями',\n",
       " '\"Вторая',\n",
       " 'MapReduce',\n",
       " 'learn',\n",
       " 'Ына',\n",
       " 'доходности',\n",
       " 'Изучаю',\n",
       " 'фильмы.',\n",
       " 'великим',\n",
       " 'бекграундом,',\n",
       " 'отрасль',\n",
       " 'CTO',\n",
       " 'дома,',\n",
       " '2010',\n",
       " 'лет,',\n",
       " 'клиентами).',\n",
       " 'слесарь',\n",
       " 'социология,',\n",
       " 'ВОВ',\n",
       " 'моделью',\n",
       " 'ВМК.',\n",
       " 'Парень',\n",
       " 'java-автоматизатора',\n",
       " 'фразах)',\n",
       " 'ней.',\n",
       " 'YandexВШЭ',\n",
       " 'лицей,',\n",
       " 'КПІ',\n",
       " 'инженер-математик.',\n",
       " 'Пайтон',\n",
       " 'обработка',\n",
       " 'знаний',\n",
       " 'отвалов',\n",
       " 'Owner.',\n",
       " 'инженерия)',\n",
       " 'учебу',\n",
       " 'функциональщине',\n",
       " 'Болтун.',\n",
       " 'серьезной',\n",
       " 'фокусом',\n",
       " 'современные',\n",
       " 'ученик',\n",
       " 'Питере.',\n",
       " 'недоступную.',\n",
       " 'processing.',\n",
       " 'мфти',\n",
       " 'угорела',\n",
       " 'прикладной',\n",
       " 'php',\n",
       " 'выходить',\n",
       " 'понимала',\n",
       " 'Исследовательские',\n",
       " 'крови',\n",
       " 'Веб-разработчик',\n",
       " 'настоящие',\n",
       " 'интересны',\n",
       " 'плохой',\n",
       " 'Начала',\n",
       " 'осознание,',\n",
       " 'подразделение,',\n",
       " 'удовольствие.',\n",
       " 'Станислав',\n",
       " 'Reporting',\n",
       " 'библиотеками',\n",
       " 'компаниях,',\n",
       " 'Физик',\n",
       " 'МатМеха',\n",
       " 'аналитику,',\n",
       " 'Алтайском',\n",
       " 'Наверстываю',\n",
       " 'биоинформатику',\n",
       " 'Карьеристка,',\n",
       " 'Инцидент-Менеджером.',\n",
       " 'менеджменте,',\n",
       " 'им.Плеханова,',\n",
       " 'бизнес-процессам',\n",
       " 'количественными',\n",
       " 'банка,',\n",
       " 'проектирования',\n",
       " '(смотрю',\n",
       " 'участвуем',\n",
       " 'цікавлюся',\n",
       " 'клуба',\n",
       " 'НГУ.',\n",
       " 'соприкоснуться',\n",
       " 'профит',\n",
       " 'языки,',\n",
       " 'Инженер',\n",
       " 'чем',\n",
       " 'становления',\n",
       " 'Scinece.',\n",
       " 'АСУТП',\n",
       " 'системах',\n",
       " 'полученных',\n",
       " 'системам',\n",
       " 'ВШЭ',\n",
       " 'платформы',\n",
       " 'мехмат',\n",
       " 'классификацией',\n",
       " 'программного',\n",
       " 'дебошир',\n",
       " 'интересов:',\n",
       " 'формирование',\n",
       " 'потере',\n",
       " 'Финансового',\n",
       " 'улучшать',\n",
       " 'До',\n",
       " 'СПбГУ,',\n",
       " 'Гугле,',\n",
       " 'выпускница',\n",
       " 'поиском',\n",
       " 'TI7)',\n",
       " 'DevOps',\n",
       " 'облати',\n",
       " 'сердцем,',\n",
       " 'нарисовать',\n",
       " 'фразу',\n",
       " 'неплохой',\n",
       " 'js/ts/c#',\n",
       " 'интересные',\n",
       " 'ИУ1',\n",
       " 'Вспомним',\n",
       " 'решать',\n",
       " 'Банке.',\n",
       " 'Анна',\n",
       " 'Минске,',\n",
       " 'анализов',\n",
       " 'рыбалку',\n",
       " 'характер',\n",
       " 'поневоле,',\n",
       " 'поработать',\n",
       " 'профиля\",',\n",
       " 'обучаю',\n",
       " 'есть!',\n",
       " 'Неплохо',\n",
       " 'systems,',\n",
       " 'Яндекса.',\n",
       " '(Python)',\n",
       " 'применял',\n",
       " 'литература,',\n",
       " 'рекламном',\n",
       " 'Генплана',\n",
       " 'СберТеха',\n",
       " 'них',\n",
       " 'France)',\n",
       " 'Qt),',\n",
       " 'мальца',\n",
       " 'РП',\n",
       " 'контесты,',\n",
       " 'надоело',\n",
       " 'Coursera).',\n",
       " 'экономист',\n",
       " 'Developer.',\n",
       " 'РАНХиГС,',\n",
       " 'не',\n",
       " 'СПб)',\n",
       " \"'18\",\n",
       " 'credit',\n",
       " 'Beeline',\n",
       " 'процессам.',\n",
       " 'скажешь.',\n",
       " '>',\n",
       " 'умные',\n",
       " 'Немного',\n",
       " 'факультета',\n",
       " 'тишник',\n",
       " 'Ruby',\n",
       " 'операторов',\n",
       " 'интересов',\n",
       " 'Количественным',\n",
       " 'Манхайма,',\n",
       " 'технарь,',\n",
       " 'жаждет',\n",
       " 'футболом',\n",
       " 'Артём,',\n",
       " 'основ',\n",
       " 'закономерностей',\n",
       " 'языков',\n",
       " 'хорошей',\n",
       " 'везде',\n",
       " 'философию',\n",
       " 'планировать.',\n",
       " '1,5',\n",
       " 'компьютерному',\n",
       " 'ПМ-ПУ.',\n",
       " 'фуллстек',\n",
       " 'Systems',\n",
       " 'специализации',\n",
       " 'трудяга',\n",
       " 'Бухгалтер.',\n",
       " 'казах.',\n",
       " 'ядерных',\n",
       " 'web-программист,',\n",
       " 'занималась',\n",
       " 'душе',\n",
       " 'того,',\n",
       " 'бродяга,',\n",
       " 'ведущий',\n",
       " 'веб-разработкой',\n",
       " 'С++',\n",
       " '(писала',\n",
       " 'Slack',\n",
       " 'Сколтеха,',\n",
       " '\"ум',\n",
       " 'достаточного',\n",
       " 'соцсеточки.',\n",
       " 'производств',\n",
       " 'всякую',\n",
       " 'Политехнического',\n",
       " 'аэрокосмических',\n",
       " 'MailRu',\n",
       " 'Аналитик',\n",
       " 'практические',\n",
       " 'погрузить',\n",
       " 'фотографировать',\n",
       " 'Университета',\n",
       " 'Текущая',\n",
       " 'знаниям',\n",
       " 'Артур.',\n",
       " 'вычислительной',\n",
       " 'высшмату,',\n",
       " 'метолы',\n",
       " 'Скучающий',\n",
       " 'выдержки.',\n",
       " 'консультант,',\n",
       " 'э',\n",
       " 'фул',\n",
       " 'Прикладное',\n",
       " 'наукой',\n",
       " '(перевелся',\n",
       " 'dl,',\n",
       " 'душ',\n",
       " 'Стремлюсь',\n",
       " 'Rated',\n",
       " 'программированию.',\n",
       " 'обучению,',\n",
       " 'Andrey',\n",
       " 'тырыц',\n",
       " 'Программирую',\n",
       " 'научной',\n",
       " 'ко',\n",
       " 'тем,',\n",
       " 'всех',\n",
       " 'лингвистика\"',\n",
       " 'Экономист',\n",
       " 'Full-stack-overflow',\n",
       " 'существующие',\n",
       " 'дорожных',\n",
       " 'программированием,',\n",
       " 'GST,',\n",
       " 'программисты,',\n",
       " 'мой',\n",
       " 'матмеха',\n",
       " 'прогала',\n",
       " 'ХАИ',\n",
       " ':)',\n",
       " 'прошлого',\n",
       " 'Воронежского',\n",
       " 'Готовлю',\n",
       " 'Geo',\n",
       " 'машин',\n",
       " 'Кристалл\"',\n",
       " 'автоматизатором',\n",
       " 'личности',\n",
       " 'робототехники',\n",
       " 'командами',\n",
       " 'udemy',\n",
       " 'очарован',\n",
       " 'Джава',\n",
       " 'дальнейшего',\n",
       " 'использовать',\n",
       " 'интеллектуального',\n",
       " 'полезных',\n",
       " 'идеей',\n",
       " 'notebooks',\n",
       " 'информатикой.',\n",
       " 'рутинной',\n",
       " 'наука',\n",
       " 'возомнивший',\n",
       " 'встречаться',\n",
       " '(есть',\n",
       " 'Сильно',\n",
       " 'биологии',\n",
       " 'математик,',\n",
       " 'Народов',\n",
       " 'Н.Э.Баумана',\n",
       " 'Salesforce',\n",
       " 'оффлайн',\n",
       " 'тестирования',\n",
       " 'нехватки',\n",
       " 'тематика',\n",
       " '«вопрос»',\n",
       " 'биоинформатический',\n",
       " 'направлением',\n",
       " 'основном,',\n",
       " 'обучиться',\n",
       " 'веб-разработчик,',\n",
       " 'новых',\n",
       " 'сама',\n",
       " 'подряд',\n",
       " 'рассчитывайте.',\n",
       " 'случайными',\n",
       " 'специальноси',\n",
       " 'пользователей.',\n",
       " 'источники',\n",
       " 'Санкт-Петербурге,',\n",
       " 'руковожу',\n",
       " 'Системного',\n",
       " 'Сбертехе',\n",
       " 'МЛ.',\n",
       " 'кластеризация',\n",
       " 'амбициозный',\n",
       " 'активными',\n",
       " 'теоретической',\n",
       " 'Республика',\n",
       " 'привет.',\n",
       " 'Дизайнер',\n",
       " 'под',\n",
       " 'химфака',\n",
       " 'Раиль,',\n",
       " 'analyst',\n",
       " 'MAIL.RU',\n",
       " 'фразе.',\n",
       " 'учебную',\n",
       " 'АйТеко,',\n",
       " 'занятий',\n",
       " 'Решила',\n",
       " 'рекламой,',\n",
       " 'Астанаб',\n",
       " 'осваивать',\n",
       " 'работающий',\n",
       " 'прогноза',\n",
       " 'вышке.',\n",
       " 'изучала',\n",
       " 'ObjectStyle',\n",
       " 'закончу',\n",
       " 'поисковике',\n",
       " 'себя',\n",
       " 'вы',\n",
       " 'симпотяга!',\n",
       " 'сильно',\n",
       " 'Фомин',\n",
       " 'летом',\n",
       " 'Банка',\n",
       " 'филантроп',\n",
       " 'ссответсвующее',\n",
       " ')))',\n",
       " 'саентист',\n",
       " 'уютном',\n",
       " 'С',\n",
       " 'мехатроника',\n",
       " 'увлекаюсь',\n",
       " 'познакомился,',\n",
       " 'data,',\n",
       " 'Пришлось',\n",
       " 'Больших',\n",
       " 'электротехнике,',\n",
       " 'течение',\n",
       " 'мое',\n",
       " 'Денис',\n",
       " 'крутой',\n",
       " 'Думаю',\n",
       " 'момент',\n",
       " 'HUNTER',\n",
       " 'инженер-программист',\n",
       " 'ищищущее',\n",
       " 'Ученый',\n",
       " 'software-engineering',\n",
       " 'аналитик',\n",
       " '\"переквалифицироваться',\n",
       " 'Solution',\n",
       " 'физика.',\n",
       " 'актуальных',\n",
       " 'домашки=рейтинг',\n",
       " 'выбираю',\n",
       " 'ex-Яндекс.',\n",
       " 'перспективным',\n",
       " 'scoring,',\n",
       " 'сервисы(c',\n",
       " 'Тинькофф,',\n",
       " '(специалист)',\n",
       " '10ти',\n",
       " 'которому',\n",
       " 'Go.',\n",
       " 'кибернетики',\n",
       " 'искреннего',\n",
       " 'Да,',\n",
       " 'узнаю.',\n",
       " 'Инженер-программист.',\n",
       " 'участвовать',\n",
       " 'мечтающий',\n",
       " 'поучить',\n",
       " 'видео.',\n",
       " 'постдок',\n",
       " 'научиться',\n",
       " 'основатель',\n",
       " 'специализация',\n",
       " 'Python/Go).',\n",
       " 'хобби.',\n",
       " 'Scientist.',\n",
       " 'SDV.',\n",
       " 'традиационный',\n",
       " 'scikit-image,',\n",
       " 'нет',\n",
       " 'мир!',\n",
       " 'Экфака',\n",
       " 'напряжения.',\n",
       " 'интересную',\n",
       " 'знания!',\n",
       " 'прошёл',\n",
       " 'связан',\n",
       " 'техподдержки,',\n",
       " 'прочие',\n",
       " 'Вышки.',\n",
       " 'Game',\n",
       " 'Самары',\n",
       " 'исследовательских',\n",
       " 'межнар',\n",
       " 'изучить',\n",
       " 'web',\n",
       " 'половины',\n",
       " 'магазина',\n",
       " 'компьютерной',\n",
       " 'ИТМО,',\n",
       " 'промухала,',\n",
       " 'извлеч',\n",
       " 'relap.io',\n",
       " '2014',\n",
       " 'Родился',\n",
       " 'небольшом',\n",
       " 'программированием',\n",
       " 'Транснефть-Технологии.',\n",
       " 'экономиечской',\n",
       " 'импортирую',\n",
       " 'вуза.',\n",
       " 'дирекции',\n",
       " 'остановить',\n",
       " 'примате(Томск)',\n",
       " 'промышленных',\n",
       " '(БГУИР,',\n",
       " 'класс',\n",
       " 'нейронную',\n",
       " 'клиентского',\n",
       " 'этих',\n",
       " 'теоретически',\n",
       " 'Замотивированный,',\n",
       " 'учиться:)',\n",
       " 'датологии',\n",
       " 'осторожный',\n",
       " 'индустрия',\n",
       " 'vivo.',\n",
       " 'сентября',\n",
       " 'руководитель,',\n",
       " 'биг',\n",
       " 'обучаюсь',\n",
       " 'экономика\"',\n",
       " 'специализацией',\n",
       " 'ML-задачами.',\n",
       " 'учусь,',\n",
       " 'департаменте',\n",
       " 'сигналов,',\n",
       " 'диджитал',\n",
       " 'цмф',\n",
       " 'красным',\n",
       " 'обучение.',\n",
       " 'готовый',\n",
       " 'все',\n",
       " '(4',\n",
       " 'Раньше',\n",
       " 'Супермассивам',\n",
       " '\"Прикладная',\n",
       " 'заимел',\n",
       " 'Париж-Восток',\n",
       " 'Санкт-Петербургского',\n",
       " 'Анализу',\n",
       " 'Иванова',\n",
       " 'Веб-инженер,',\n",
       " 'самообразования',\n",
       " 'С7',\n",
       " 'студент-химик,',\n",
       " 'Аналитик.',\n",
       " 'язык',\n",
       " 'гуманитария',\n",
       " 'Аудитор',\n",
       " '.Net',\n",
       " 'родом',\n",
       " 'языками.',\n",
       " 'авиационных',\n",
       " 'ModuleWorks.',\n",
       " 'математическую',\n",
       " 'инструменты.',\n",
       " 'понятия',\n",
       " 'бегиннер',\n",
       " 'Инженер-мехатроник.',\n",
       " 'профессией.',\n",
       " 'топорного',\n",
       " 'бакалавриата',\n",
       " 'Fullstack',\n",
       " 'особенности',\n",
       " 'опыта,',\n",
       " 'speech-to-text',\n",
       " 'пр),',\n",
       " 'полезное.',\n",
       " 'хакатонах',\n",
       " 'год,',\n",
       " 'Для',\n",
       " 'близнецы',\n",
       " 'семантикой',\n",
       " 'потенциальный',\n",
       " 'навыками',\n",
       " '\"Переводчик',\n",
       " 'энтузиаст,',\n",
       " 'этим,',\n",
       " 'Научный',\n",
       " 'руками,',\n",
       " 'чувствую',\n",
       " 'млекопитающих',\n",
       " 'данной',\n",
       " 'Живу.Дышу.Работаю.',\n",
       " 'безопасник,',\n",
       " 'сетями',\n",
       " '320',\n",
       " 'Ковальчук',\n",
       " 'город',\n",
       " '2011',\n",
       " 'банке.',\n",
       " 'Ктн',\n",
       " 'переменной.',\n",
       " 'рамок',\n",
       " 'парусного',\n",
       " 'компьютерный',\n",
       " 'финтех,',\n",
       " 'диплома',\n",
       " 'набором',\n",
       " 'характер,',\n",
       " \"Scientist'ом\",\n",
       " 'нетехническом',\n",
       " 'машоб',\n",
       " 'Крыма',\n",
       " 'мат.моделей',\n",
       " 'практическая',\n",
       " 'скверно',\n",
       " 'ABBYY,',\n",
       " 'данных».',\n",
       " 'ставками',\n",
       " 'надоело,',\n",
       " 'обаяшка',\n",
       " 'отрасли.',\n",
       " 'aficionado',\n",
       " 'Много',\n",
       " '1С',\n",
       " 'магистратуры',\n",
       " 'что',\n",
       " 'Да',\n",
       " 'экономистом-аналитиком',\n",
       " 'математическая',\n",
       " 'было',\n",
       " '(теория',\n",
       " 'умеющий',\n",
       " 'Оренбурге.',\n",
       " 'Информационные',\n",
       " 'Вэб',\n",
       " 'экономика',\n",
       " 'Analyst',\n",
       " 'день',\n",
       " 'дилер',\n",
       " 'технология.',\n",
       " 'Networks',\n",
       " 'scipy,',\n",
       " 'Go,',\n",
       " 'любит',\n",
       " 'найду',\n",
       " 'АБД',\n",
       " 'своей',\n",
       " 'полученные',\n",
       " 'мат-меха',\n",
       " 'Бекенд',\n",
       " 'analyst.',\n",
       " 'AI',\n",
       " 'researcher,',\n",
       " 'Bank',\n",
       " 'почещаю',\n",
       " 'Sсientistа,',\n",
       " 'раздолбай,',\n",
       " 'Russia',\n",
       " 'детьми',\n",
       " 'Гаранте',\n",
       " 'рабочими',\n",
       " 'Master',\n",
       " 'всяких',\n",
       " 'Технологий,',\n",
       " 'нахожусь',\n",
       " 'лингвиста',\n",
       " 'во',\n",
       " 'ШАД',\n",
       " 'недавний',\n",
       " 'участвовал',\n",
       " 'Слушала',\n",
       " 'СПб.',\n",
       " 'мне:',\n",
       " 'музыку',\n",
       " 'своих',\n",
       " 'extraordinarily',\n",
       " 'специализации.',\n",
       " 'успел',\n",
       " 'казахстанского',\n",
       " 'работник',\n",
       " 'лингвистика),',\n",
       " '(Toronto,',\n",
       " \"learning'ом.\",\n",
       " 'бэкенд',\n",
       " 'международной',\n",
       " 'Прикладной',\n",
       " 'медиа-аналитиком:',\n",
       " 'if-then.',\n",
       " 'крос',\n",
       " 'слушаю',\n",
       " 'Бирже,',\n",
       " 'жизнь.',\n",
       " 'предметом',\n",
       " 'Analyst.',\n",
       " 'КПИ',\n",
       " 'спорта,',\n",
       " 'СберТехе,',\n",
       " 'вмк,',\n",
       " 'сиарая',\n",
       " ';)))',\n",
       " 'ПО.',\n",
       " 'администратор,',\n",
       " 'Основная',\n",
       " 'то',\n",
       " 'фкн',\n",
       " 'телекоммуникаций,',\n",
       " 'APALON',\n",
       " 'используем',\n",
       " '(физика).',\n",
       " 'RWTH',\n",
       " 'ML+python',\n",
       " 'ПИ',\n",
       " 'попытки',\n",
       " 'сертификатов',\n",
       " 'Анализе',\n",
       " 'медиакоммуникаций',\n",
       " 'зарубежную',\n",
       " 'сознательную',\n",
       " 'неизбежно),',\n",
       " '1-3',\n",
       " 'нейронаучными',\n",
       " 'науке',\n",
       " 't.me/dsclub).',\n",
       " 'вторым',\n",
       " 'Бауманку,',\n",
       " 'экономике,',\n",
       " 'а',\n",
       " 'плюсах,',\n",
       " 'созерцать.',\n",
       " 'Недоэкономист,',\n",
       " 'Петрович',\n",
       " 'Осн.',\n",
       " 'маркетинге.',\n",
       " 'пустить',\n",
       " 'Питерской',\n",
       " 'рукой',\n",
       " 'Радиофизик,',\n",
       " 'tell?',\n",
       " 'т.з.',\n",
       " 'изучая',\n",
       " 'CS,',\n",
       " 'миру.',\n",
       " 'Турист',\n",
       " 'матмоделированием',\n",
       " 'МГТУ',\n",
       " 'экстрим',\n",
       " 'открытый',\n",
       " 'хакерспейсов.',\n",
       " 'натравить',\n",
       " 'определения',\n",
       " 'проге',\n",
       " 'Игровой',\n",
       " 'темами',\n",
       " 'естественных',\n",
       " 'саентологом',\n",
       " 'разновидности',\n",
       " 'Сулеймана',\n",
       " 'Чехии.',\n",
       " 'следующем',\n",
       " 'год).',\n",
       " 'академии',\n",
       " 'освоения',\n",
       " 'мат.фака',\n",
       " 'лав',\n",
       " 'DA',\n",
       " 'процессы',\n",
       " 'начальный',\n",
       " 'МГТУ,',\n",
       " 'Питон.',\n",
       " 'теорвера',\n",
       " 'моделированием.',\n",
       " 'одну',\n",
       " 'отчество',\n",
       " 'высшее,',\n",
       " 'анализом.',\n",
       " 'тащусь',\n",
       " 'Statistical',\n",
       " 'нулевым',\n",
       " 'провинциальном',\n",
       " 'СумГУ,',\n",
       " 'бизнес-информатика',\n",
       " 'СФУ',\n",
       " 'БД',\n",
       " 'огромный',\n",
       " 'моделист,',\n",
       " 'авторское',\n",
       " 'фортепиано',\n",
       " 'произошло',\n",
       " 'отдела',\n",
       " 'скучна',\n",
       " 'Scoentist’ом',\n",
       " '\"нагрузить\"',\n",
       " 'курьере',\n",
       " 'такое.',\n",
       " 'Новичок',\n",
       " 'гуманитарной',\n",
       " 'материала',\n",
       " 'Мисис',\n",
       " 'коллабораций',\n",
       " 'Студент-недоматематик,',\n",
       " 'устроумный,',\n",
       " 'Внутренний',\n",
       " 'прогу',\n",
       " 'астроном.',\n",
       " 'работы,',\n",
       " 'learning.',\n",
       " 'nlp.',\n",
       " 'РУДН',\n",
       " 'брейком',\n",
       " 'курс).',\n",
       " 'ЛАНИТ.',\n",
       " 'ML)',\n",
       " 'БД,',\n",
       " 'Китов',\n",
       " 'познаю',\n",
       " 'теор.',\n",
       " 'пучков',\n",
       " 'систематизации',\n",
       " 'School,',\n",
       " 'python)',\n",
       " 'Automation.',\n",
       " 'программировать.',\n",
       " 'Дата-майнинг',\n",
       " 'линейные',\n",
       " 'условно',\n",
       " 'Гренобле.',\n",
       " 'интеллект',\n",
       " 'Programming,',\n",
       " 'sql\"',\n",
       " 'Miner.',\n",
       " 'неуч',\n",
       " 'падаван',\n",
       " 'настоящее',\n",
       " 'Киевской',\n",
       " 'Title',\n",
       " '(Санкт-Петербургский',\n",
       " 'информатике,',\n",
       " 'вуза,',\n",
       " 'аналитик.',\n",
       " 'говорить.',\n",
       " 'разработкой,',\n",
       " 'класса.',\n",
       " 'Программист-самоучка',\n",
       " 'passion',\n",
       " 'различными',\n",
       " 'представляю',\n",
       " 'инженерной',\n",
       " 'перейдем',\n",
       " 'проведения',\n",
       " 'Начинающий,',\n",
       " 'информационными',\n",
       " 'вы,',\n",
       " 'Fintech',\n",
       " '(Тель',\n",
       " 'основные',\n",
       " 'ленции',\n",
       " 'пресейл',\n",
       " 'научным',\n",
       " 'недели',\n",
       " 'Германии.',\n",
       " 'менять',\n",
       " 'журналистик-данных.',\n",
       " 'прокачаться',\n",
       " 'вышки.',\n",
       " 'глупые',\n",
       " 'Страхование\"',\n",
       " 'Что?',\n",
       " 'авто',\n",
       " 'первым',\n",
       " 'карьеру',\n",
       " 'возможный',\n",
       " 'ютьюбчик',\n",
       " 'Архитектор',\n",
       " 'компьютерная',\n",
       " 'потерь',\n",
       " '\"Анализ',\n",
       " ':-).',\n",
       " 'информатикой,',\n",
       " 'Berlin,',\n",
       " 'курс:)',\n",
       " 'инженер-конструктор,',\n",
       " 'Нынешний',\n",
       " 'сегментный',\n",
       " 'Ozon.ru',\n",
       " 'практического',\n",
       " 'расширяю',\n",
       " 'ходе',\n",
       " 'стажируюсь',\n",
       " '100',\n",
       " 'апгрейду)))',\n",
       " 'имени',\n",
       " 'отдел',\n",
       " 'ЛЭТИ.',\n",
       " 'При',\n",
       " 'Ng)',\n",
       " 'РАН.',\n",
       " 'keen',\n",
       " 'Программирую,',\n",
       " 'Периодически',\n",
       " 'курса',\n",
       " 'обычный',\n",
       " 'Хорошо',\n",
       " 'доп.',\n",
       " 'Оказавшись',\n",
       " 'методами,',\n",
       " 'Павлович',\n",
       " 'практиковать',\n",
       " 'Отучился',\n",
       " 'стадионов',\n",
       " 'самостоятельно',\n",
       " 'операционной',\n",
       " 'день.',\n",
       " 'driven',\n",
       " 'питон.',\n",
       " 'сигналов',\n",
       " 'аналитиком',\n",
       " 'Медленно',\n",
       " 'IT.',\n",
       " 'теоретические',\n",
       " 'Интересуют',\n",
       " 'Avito',\n",
       " 'студентом',\n",
       " 'только)',\n",
       " 'Недокандидат',\n",
       " 'яндекса(5/6',\n",
       " 'Andrew',\n",
       " 'Maryland',\n",
       " 'MIT',\n",
       " 'каггла',\n",
       " 'практики.',\n",
       " 'системном',\n",
       " 'без',\n",
       " '(ПМ-ПУ',\n",
       " 'значительную',\n",
       " 'Программист.',\n",
       " 'измерения',\n",
       " 'write',\n",
       " 'шаги',\n",
       " 'С#',\n",
       " 'сисадмин,',\n",
       " 'пониманию',\n",
       " 'порядка',\n",
       " 'свободно',\n",
       " 'выч.',\n",
       " 'подтянусь',\n",
       " 'Высокий',\n",
       " 'fat',\n",
       " 'У',\n",
       " 'coursera',\n",
       " 'Бауманки',\n",
       " 'ГИС',\n",
       " 'Нерд,',\n",
       " 'обучение,',\n",
       " 'backend,',\n",
       " 'рекомендательные',\n",
       " 'On',\n",
       " 'связи',\n",
       " 'шарпе',\n",
       " 'хитрых',\n",
       " 'темам.',\n",
       " 'РЭУ',\n",
       " 'желаю',\n",
       " \"Master's\",\n",
       " 'дефолтам',\n",
       " 'Биолог',\n",
       " 'stack',\n",
       " 'социальной',\n",
       " 'подтянуть',\n",
       " 'снова.',\n",
       " 'myself',\n",
       " 'парень,',\n",
       " 'университете',\n",
       " 'РЭШ',\n",
       " 'Полюбил',\n",
       " 'картинки.',\n",
       " 'background-ом',\n",
       " 'Решаю',\n",
       " 'датасет',\n",
       " 'благодаря',\n",
       " 'бэкграунд.',\n",
       " 'здорово',\n",
       " 'point',\n",
       " 'Твенте',\n",
       " 'программирование(python,',\n",
       " 'стать',\n",
       " 'велосипеде',\n",
       " 'Политехнический',\n",
       " 'технологии.',\n",
       " 'ИИКС',\n",
       " 'iss.ru.',\n",
       " 'Рассматриваю',\n",
       " 'СПБГу.',\n",
       " 'мобильных',\n",
       " 'смены',\n",
       " 'z/OS',\n",
       " 'frontend',\n",
       " 'проекта,',\n",
       " 'Проживаю',\n",
       " 'Был',\n",
       " 'обучению(',\n",
       " 'начинаючий',\n",
       " 'тучка-тучка-тучка,',\n",
       " 'Android',\n",
       " 'in',\n",
       " ...}"
      ]
     },
     "execution_count": 214,
     "metadata": {},
     "output_type": "execute_result"
    }
   ],
   "source": [
    "all_words"
   ]
  },
  {
   "cell_type": "code",
   "execution_count": 217,
   "metadata": {},
   "outputs": [
    {
     "data": {
      "text/plain": [
       "в                 1235\n",
       "и                  734\n",
       "на                 409\n",
       "по                 283\n",
       "Студент            279\n",
       "с                  219\n",
       "Работаю            201\n",
       "курса              187\n",
       "данных             178\n",
       "Data               173\n",
       "Я                  166\n",
       "работаю            157\n",
       "data               130\n",
       "машинным           123\n",
       "хочу               122\n",
       "ML                 122\n",
       "-                  114\n",
       "занимаюсь          103\n",
       "интересуюсь        101\n",
       "не                 100\n",
       "Хочу                98\n",
       "студент             93\n",
       "анализом            88\n",
       "но                  88\n",
       "Интересуюсь         88\n",
       "для                 87\n",
       "я                   86\n",
       "В                   80\n",
       "Люблю               80\n",
       "ВШЭ                 76\n",
       "                  ... \n",
       "4-ой                 1\n",
       "junior.              1\n",
       "Вячеслав             1\n",
       "методым              1\n",
       "экс                  1\n",
       "Волгоград.           1\n",
       "вебе                 1\n",
       "пошло.               1\n",
       "scipy,               1\n",
       "Германии,            1\n",
       "сервиса              1\n",
       "инженерного          1\n",
       "Engeneer             1\n",
       "обучением;           1\n",
       "developer`oм.        1\n",
       "заметки,             1\n",
       "ОИС                  1\n",
       "стакаю               1\n",
       "повышение            1\n",
       "детьми               1\n",
       "кодированием         1\n",
       "Привет,меня          1\n",
       "Брауновского         1\n",
       "картографии,         1\n",
       "Алхимик              1\n",
       "информатика,         1\n",
       "~4                   1\n",
       "РГМУ                 1\n",
       "learner              1\n",
       "стратегическом       1\n",
       "Length: 8294, dtype: int64"
      ]
     },
     "execution_count": 217,
     "metadata": {},
     "output_type": "execute_result"
    }
   ],
   "source": [
    "pd.Series(list(all_words)).value_counts()"
   ]
  },
  {
   "cell_type": "code",
   "execution_count": 218,
   "metadata": {},
   "outputs": [
    {
     "name": "stdout",
     "output_type": "stream",
     "text": [
      "Requirement already satisfied: nltk in c:\\users\\maschine\\anaconda3\\lib\\site-packages\n",
      "Requirement already satisfied: six in c:\\users\\maschine\\anaconda3\\lib\\site-packages (from nltk)\n"
     ]
    }
   ],
   "source": [
    "!pip install nltk"
   ]
  },
  {
   "cell_type": "code",
   "execution_count": 225,
   "metadata": {
    "collapsed": true
   },
   "outputs": [],
   "source": [
    "import nltk"
   ]
  },
  {
   "cell_type": "code",
   "execution_count": 226,
   "metadata": {
    "collapsed": true
   },
   "outputs": [],
   "source": [
    "from nltk.corpus import stopwords"
   ]
  },
  {
   "cell_type": "code",
   "execution_count": 227,
   "metadata": {},
   "outputs": [
    {
     "name": "stdout",
     "output_type": "stream",
     "text": [
      "[nltk_data] Downloading package stopwords to\n",
      "[nltk_data]     C:\\Users\\Maschine\\AppData\\Roaming\\nltk_data...\n",
      "[nltk_data]   Unzipping corpora\\stopwords.zip.\n"
     ]
    },
    {
     "data": {
      "text/plain": [
       "True"
      ]
     },
     "execution_count": 227,
     "metadata": {},
     "output_type": "execute_result"
    }
   ],
   "source": [
    "nltk.download('stopwords')"
   ]
  },
  {
   "cell_type": "code",
   "execution_count": 230,
   "metadata": {},
   "outputs": [
    {
     "data": {
      "text/plain": [
       "['и',\n",
       " 'в',\n",
       " 'во',\n",
       " 'не',\n",
       " 'что',\n",
       " 'он',\n",
       " 'на',\n",
       " 'я',\n",
       " 'с',\n",
       " 'со',\n",
       " 'как',\n",
       " 'а',\n",
       " 'то',\n",
       " 'все',\n",
       " 'она',\n",
       " 'так',\n",
       " 'его',\n",
       " 'но',\n",
       " 'да',\n",
       " 'ты',\n",
       " 'к',\n",
       " 'у',\n",
       " 'же',\n",
       " 'вы',\n",
       " 'за',\n",
       " 'бы',\n",
       " 'по',\n",
       " 'только',\n",
       " 'ее',\n",
       " 'мне',\n",
       " 'было',\n",
       " 'вот',\n",
       " 'от',\n",
       " 'меня',\n",
       " 'еще',\n",
       " 'нет',\n",
       " 'о',\n",
       " 'из',\n",
       " 'ему',\n",
       " 'теперь',\n",
       " 'когда',\n",
       " 'даже',\n",
       " 'ну',\n",
       " 'вдруг',\n",
       " 'ли',\n",
       " 'если',\n",
       " 'уже',\n",
       " 'или',\n",
       " 'ни',\n",
       " 'быть',\n",
       " 'был',\n",
       " 'него',\n",
       " 'до',\n",
       " 'вас',\n",
       " 'нибудь',\n",
       " 'опять',\n",
       " 'уж',\n",
       " 'вам',\n",
       " 'ведь',\n",
       " 'там',\n",
       " 'потом',\n",
       " 'себя',\n",
       " 'ничего',\n",
       " 'ей',\n",
       " 'может',\n",
       " 'они',\n",
       " 'тут',\n",
       " 'где',\n",
       " 'есть',\n",
       " 'надо',\n",
       " 'ней',\n",
       " 'для',\n",
       " 'мы',\n",
       " 'тебя',\n",
       " 'их',\n",
       " 'чем',\n",
       " 'была',\n",
       " 'сам',\n",
       " 'чтоб',\n",
       " 'без',\n",
       " 'будто',\n",
       " 'чего',\n",
       " 'раз',\n",
       " 'тоже',\n",
       " 'себе',\n",
       " 'под',\n",
       " 'будет',\n",
       " 'ж',\n",
       " 'тогда',\n",
       " 'кто',\n",
       " 'этот',\n",
       " 'того',\n",
       " 'потому',\n",
       " 'этого',\n",
       " 'какой',\n",
       " 'совсем',\n",
       " 'ним',\n",
       " 'здесь',\n",
       " 'этом',\n",
       " 'один',\n",
       " 'почти',\n",
       " 'мой',\n",
       " 'тем',\n",
       " 'чтобы',\n",
       " 'нее',\n",
       " 'сейчас',\n",
       " 'были',\n",
       " 'куда',\n",
       " 'зачем',\n",
       " 'всех',\n",
       " 'никогда',\n",
       " 'можно',\n",
       " 'при',\n",
       " 'наконец',\n",
       " 'два',\n",
       " 'об',\n",
       " 'другой',\n",
       " 'хоть',\n",
       " 'после',\n",
       " 'над',\n",
       " 'больше',\n",
       " 'тот',\n",
       " 'через',\n",
       " 'эти',\n",
       " 'нас',\n",
       " 'про',\n",
       " 'всего',\n",
       " 'них',\n",
       " 'какая',\n",
       " 'много',\n",
       " 'разве',\n",
       " 'три',\n",
       " 'эту',\n",
       " 'моя',\n",
       " 'впрочем',\n",
       " 'хорошо',\n",
       " 'свою',\n",
       " 'этой',\n",
       " 'перед',\n",
       " 'иногда',\n",
       " 'лучше',\n",
       " 'чуть',\n",
       " 'том',\n",
       " 'нельзя',\n",
       " 'такой',\n",
       " 'им',\n",
       " 'более',\n",
       " 'всегда',\n",
       " 'конечно',\n",
       " 'всю',\n",
       " 'между']"
      ]
     },
     "execution_count": 230,
     "metadata": {},
     "output_type": "execute_result"
    }
   ],
   "source": [
    "stopwords.words('russian')"
   ]
  },
  {
   "cell_type": "code",
   "execution_count": 235,
   "metadata": {},
   "outputs": [
    {
     "data": {
      "text/plain": [
       "Студент     279\n",
       "Работаю     201\n",
       "курса       187\n",
       "данных      178\n",
       "Data        173\n",
       "Я           166\n",
       "работаю     157\n",
       "data        130\n",
       "машинным    123\n",
       "ML          122\n",
       "dtype: int64"
      ]
     },
     "execution_count": 235,
     "metadata": {},
     "output_type": "execute_result"
    }
   ],
   "source": [
    "words_series = pd.Series(list(all_words))\n",
    "words_series[~words_series.isin(stopwords.words('russian'))].value_counts().head(10)"
   ]
  },
  {
   "cell_type": "code",
   "execution_count": 231,
   "metadata": {},
   "outputs": [
    {
     "data": {
      "text/plain": [
       "0        False\n",
       "1        False\n",
       "2        False\n",
       "3        False\n",
       "4        False\n",
       "5        False\n",
       "6        False\n",
       "7         True\n",
       "8        False\n",
       "9        False\n",
       "10       False\n",
       "11       False\n",
       "12       False\n",
       "13       False\n",
       "14       False\n",
       "15       False\n",
       "16       False\n",
       "17       False\n",
       "18       False\n",
       "19       False\n",
       "20       False\n",
       "21       False\n",
       "22        True\n",
       "23       False\n",
       "24       False\n",
       "25       False\n",
       "26       False\n",
       "27        True\n",
       "28       False\n",
       "29       False\n",
       "         ...  \n",
       "26503    False\n",
       "26504     True\n",
       "26505    False\n",
       "26506     True\n",
       "26507    False\n",
       "26508    False\n",
       "26509    False\n",
       "26510    False\n",
       "26511     True\n",
       "26512    False\n",
       "26513    False\n",
       "26514    False\n",
       "26515     True\n",
       "26516    False\n",
       "26517    False\n",
       "26518    False\n",
       "26519    False\n",
       "26520    False\n",
       "26521    False\n",
       "26522    False\n",
       "26523     True\n",
       "26524    False\n",
       "26525    False\n",
       "26526    False\n",
       "26527    False\n",
       "26528    False\n",
       "26529     True\n",
       "26530    False\n",
       "26531    False\n",
       "26532    False\n",
       "Length: 26533, dtype: bool"
      ]
     },
     "execution_count": 231,
     "metadata": {},
     "output_type": "execute_result"
    }
   ],
   "source": [
    "words_series."
   ]
  },
  {
   "cell_type": "code",
   "execution_count": null,
   "metadata": {
    "collapsed": true
   },
   "outputs": [],
   "source": []
  }
 ],
 "metadata": {
  "kernelspec": {
   "display_name": "Python 3",
   "language": "python",
   "name": "python3"
  },
  "language_info": {
   "codemirror_mode": {
    "name": "ipython",
    "version": 3
   },
   "file_extension": ".py",
   "mimetype": "text/x-python",
   "name": "python",
   "nbconvert_exporter": "python",
   "pygments_lexer": "ipython3",
   "version": "3.6.1"
  }
 },
 "nbformat": 4,
 "nbformat_minor": 2
}
